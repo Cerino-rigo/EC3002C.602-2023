{
  "nbformat": 4,
  "nbformat_minor": 0,
  "metadata": {
    "colab": {
      "provenance": [],
      "mount_file_id": "1zlia6UJ7nTKNvKUsTF4iq8U4G332-caN",
      "authorship_tag": "ABX9TyNy0+IFprs1eyd79IOGUADE",
      "include_colab_link": true
    },
    "kernelspec": {
      "name": "python3",
      "display_name": "Python 3"
    },
    "language_info": {
      "name": "python"
    }
  },
  "cells": [
    {
      "cell_type": "markdown",
      "metadata": {
        "id": "view-in-github",
        "colab_type": "text"
      },
      "source": [
        "<a href=\"https://colab.research.google.com/github/Cerino-rigo/EC3002C.602-2023/blob/main/Numpy.ipynb\" target=\"_parent\"><img src=\"https://colab.research.google.com/assets/colab-badge.svg\" alt=\"Open In Colab\"/></a>"
      ]
    },
    {
      "cell_type": "markdown",
      "source": [
        "# Numpy"
      ],
      "metadata": {
        "id": "BK_6-j1ufA_Q"
      }
    },
    {
      "cell_type": "markdown",
      "source": [
        "**Importar librería Numpy**"
      ],
      "metadata": {
        "id": "cvG_IMNziaRb"
      }
    },
    {
      "cell_type": "code",
      "source": [
        "#Importar librería Numpy\n",
        "import numpy as np"
      ],
      "metadata": {
        "id": "r1t39orpgW68"
      },
      "execution_count": 2,
      "outputs": []
    },
    {
      "cell_type": "code",
      "source": [
        "# Array de una dimensión\n",
        "a1 = np.array([1, 2, 3])\n",
        "print(a1)\n"
      ],
      "metadata": {
        "colab": {
          "base_uri": "https://localhost:8080/"
        },
        "id": "uEG6Ioo_XsYg",
        "outputId": "13af2cab-6bdf-48a8-d10e-14ed71eb1884"
      },
      "execution_count": 3,
      "outputs": [
        {
          "output_type": "stream",
          "name": "stdout",
          "text": [
            "[1 2 3]\n"
          ]
        }
      ]
    },
    {
      "cell_type": "code",
      "source": [
        "# Array de dos dimensiones\n",
        "a2 = np.array([[1, 2, 3], [4, 5, 6]])\n",
        "print(a2)\n"
      ],
      "metadata": {
        "colab": {
          "base_uri": "https://localhost:8080/"
        },
        "id": "JcUr_rt1gOaL",
        "outputId": "68d23c1c-de86-4bac-9ca5-d9842546d4a4"
      },
      "execution_count": 4,
      "outputs": [
        {
          "output_type": "stream",
          "name": "stdout",
          "text": [
            "[[1 2 3]\n",
            " [4 5 6]]\n"
          ]
        }
      ]
    },
    {
      "cell_type": "code",
      "source": [
        "# Array de tres dimensiones\n",
        "a3 = np.array([[[1, 2, 3], [4, 5, 6]], [[7, 8, 9], [10, 11, 12]]])\n",
        "print(a3)"
      ],
      "metadata": {
        "colab": {
          "base_uri": "https://localhost:8080/"
        },
        "id": "uRV9oXWWf-4u",
        "outputId": "8ef6d8a3-59e2-4fdd-c5f9-7d332daa9f3c"
      },
      "execution_count": 8,
      "outputs": [
        {
          "output_type": "stream",
          "name": "stdout",
          "text": [
            "[[[ 1  2  3]\n",
            "  [ 4  5  6]]\n",
            "\n",
            " [[ 7  8  9]\n",
            "  [10 11 12]]]\n"
          ]
        }
      ]
    },
    {
      "cell_type": "markdown",
      "source": [
        "Un array, es un tipo de dato estructurado que permite almacenar un conjunto de datos homogeneo, es decir, todos ellos del mismo tipo y relacionados. Cada uno de los elementos que componen un array pueden ser de tipo simple como caracteres, entero o real, o de tipo compuesto o estructurado como son vectores, estructuras, listas.\n",
        "\n",
        "Están organizados en forma de tabla o cuadrícula de distintas dimensiones (1,2,3), también conocida como ejes. La estructura más básica es un vector (1 dimensión)\n",
        "\n",
        "A los datos almacenados en un array se les denomina elementos; al número de elementos de un array se les denomina tamaño o rango del vector.\n",
        "\n",
        "\n",
        "\n",
        "\n"
      ],
      "metadata": {
        "id": "PM0JaexDfSdn"
      }
    },
    {
      "cell_type": "markdown",
      "source": [
        "**Importar un ndarray utilizando una lista**"
      ],
      "metadata": {
        "id": "N2XFtsYZji1Z"
      }
    },
    {
      "cell_type": "code",
      "source": [
        "lista_2d=[[2,3,9],\n",
        "          [6,9,2],\n",
        "          [9,3,7],\n",
        "          [1,4,8]]"
      ],
      "metadata": {
        "id": "0Uqhmnz7jPii"
      },
      "execution_count": 9,
      "outputs": []
    },
    {
      "cell_type": "code",
      "source": [
        "arr = np.array(lista_2d)"
      ],
      "metadata": {
        "id": "wqR-QsaOe9iK"
      },
      "execution_count": 12,
      "outputs": []
    },
    {
      "cell_type": "markdown",
      "source": [
        "**Utilizar la propiedad shape para obtener la forma del arreglo**"
      ],
      "metadata": {
        "id": "BWPG0fCBfA85"
      }
    },
    {
      "cell_type": "code",
      "source": [
        "arr.shape\n",
        "# Devuelve la forma del arregalo (Filas x Columnas)"
      ],
      "metadata": {
        "colab": {
          "base_uri": "https://localhost:8080/"
        },
        "id": "rmGRoug8YfM2",
        "outputId": "dc6fbb71-7a54-412b-a4f5-7b2f31482bb0"
      },
      "execution_count": 13,
      "outputs": [
        {
          "output_type": "execute_result",
          "data": {
            "text/plain": [
              "(4, 3)"
            ]
          },
          "metadata": {},
          "execution_count": 13
        }
      ]
    },
    {
      "cell_type": "markdown",
      "source": [
        "**Utilizar la propiedad ndim para obtener las dimensiones del arreglo**"
      ],
      "metadata": {
        "id": "-_eL7WzklXOk"
      }
    },
    {
      "cell_type": "code",
      "source": [
        "arr.ndim\n"
      ],
      "metadata": {
        "id": "560uOMI9YkJ5",
        "colab": {
          "base_uri": "https://localhost:8080/"
        },
        "outputId": "4e92183a-4931-45a4-fb58-b70879ac3ecd"
      },
      "execution_count": 14,
      "outputs": [
        {
          "output_type": "execute_result",
          "data": {
            "text/plain": [
              "2"
            ]
          },
          "metadata": {},
          "execution_count": 14
        }
      ]
    },
    {
      "cell_type": "markdown",
      "source": [
        "**Utilizar la propiedad dtype para conecer el tipo de datos del arreglo**"
      ],
      "metadata": {
        "id": "gvF90EkbmoLY"
      }
    },
    {
      "cell_type": "code",
      "source": [
        "arr.dtype"
      ],
      "metadata": {
        "colab": {
          "base_uri": "https://localhost:8080/"
        },
        "id": "ER4N9FCDaMJG",
        "outputId": "1838cb4e-a51a-4b6c-c31c-829f90607587"
      },
      "execution_count": 23,
      "outputs": [
        {
          "output_type": "execute_result",
          "data": {
            "text/plain": [
              "dtype('int64')"
            ]
          },
          "metadata": {},
          "execution_count": 23
        }
      ]
    },
    {
      "cell_type": "markdown",
      "source": [
        "**Utilizar la propiedad size para conecer la cantidad total de datos del arreglo**"
      ],
      "metadata": {
        "id": "PCxWDE-Hlba7"
      }
    },
    {
      "cell_type": "code",
      "source": [
        "arr.size\n"
      ],
      "metadata": {
        "colab": {
          "base_uri": "https://localhost:8080/"
        },
        "id": "7hkkPAAZbrIp",
        "outputId": "2ece0b2f-976a-4fa6-97ca-fa738080a73e"
      },
      "execution_count": 24,
      "outputs": [
        {
          "output_type": "execute_result",
          "data": {
            "text/plain": [
              "12"
            ]
          },
          "metadata": {},
          "execution_count": 24
        }
      ]
    },
    {
      "cell_type": "markdown",
      "source": [
        "## Crear arreglos de ceros y unos"
      ],
      "metadata": {
        "id": "EHO28WUNng4A"
      }
    },
    {
      "cell_type": "markdown",
      "source": [
        "**Utilizar la función np.zeros para crear un ndarray con la forma 4x3**"
      ],
      "metadata": {
        "id": "xGp2zfxnnTm7"
      }
    },
    {
      "cell_type": "code",
      "source": [
        "np.zeros((4,3))"
      ],
      "metadata": {
        "id": "Qz4m0n1paZ8V",
        "colab": {
          "base_uri": "https://localhost:8080/"
        },
        "outputId": "2be0b081-dcdb-49c6-f323-927ee770334d"
      },
      "execution_count": 27,
      "outputs": [
        {
          "output_type": "execute_result",
          "data": {
            "text/plain": [
              "array([[0., 0., 0.],\n",
              "       [0., 0., 0.],\n",
              "       [0., 0., 0.],\n",
              "       [0., 0., 0.]])"
            ]
          },
          "metadata": {},
          "execution_count": 27
        }
      ]
    },
    {
      "cell_type": "markdown",
      "source": [
        "**Utilizar la función np.ones para crear un ndarray con la forma 5x5**"
      ],
      "metadata": {
        "id": "dBz_oo7OoIBl"
      }
    },
    {
      "cell_type": "code",
      "source": [
        "np.ones((5,5))\n"
      ],
      "metadata": {
        "colab": {
          "base_uri": "https://localhost:8080/"
        },
        "id": "cUO2jFQUdE-p",
        "outputId": "d6ed87da-659b-4f9e-b43c-63ce45605c4b"
      },
      "execution_count": 28,
      "outputs": [
        {
          "output_type": "execute_result",
          "data": {
            "text/plain": [
              "array([[1., 1., 1., 1., 1.],\n",
              "       [1., 1., 1., 1., 1.],\n",
              "       [1., 1., 1., 1., 1.],\n",
              "       [1., 1., 1., 1., 1.],\n",
              "       [1., 1., 1., 1., 1.]])"
            ]
          },
          "metadata": {},
          "execution_count": 28
        }
      ]
    },
    {
      "cell_type": "markdown",
      "source": [
        "**Crear un ndarray de 1 dimensión con valores del 0 al 49 (Ej. [1,2,3,...])**"
      ],
      "metadata": {
        "id": "qc2aI9G7qiDm"
      }
    },
    {
      "cell_type": "code",
      "execution_count": 31,
      "metadata": {
        "colab": {
          "base_uri": "https://localhost:8080/"
        },
        "id": "TS_Mn6LTQXVh",
        "outputId": "fd4ace11-fc62-4e29-aabd-8046bcd38b8c"
      },
      "outputs": [
        {
          "output_type": "execute_result",
          "data": {
            "text/plain": [
              "array([ 0,  1,  2,  3,  4,  5,  6,  7,  8,  9, 10, 11, 12, 13, 14, 15, 16,\n",
              "       17, 18, 19, 20, 21, 22, 23, 24, 25, 26, 27, 28, 29, 30, 31, 32, 33,\n",
              "       34, 35, 36, 37, 38, 39, 40, 41, 42, 43, 44, 45, 46, 47, 48, 49])"
            ]
          },
          "metadata": {},
          "execution_count": 31
        }
      ],
      "source": [
        "np.arange(50)\n"
      ]
    },
    {
      "cell_type": "markdown",
      "source": [
        "Crear un ndarray de 2 dimensión con la forma 2x50,los valores deben ser del 0 al 49 (Ej. [[0,1,2,3,4],[5,6,..]])"
      ],
      "metadata": {
        "id": "d8J2N2SDreBS"
      }
    },
    {
      "cell_type": "code",
      "source": [
        "np.arange(50).reshape(2,25)"
      ],
      "metadata": {
        "colab": {
          "base_uri": "https://localhost:8080/"
        },
        "id": "KGNhIKiWR3N8",
        "outputId": "0f1765db-74b1-4c6f-8d9b-6f9c80372e92"
      },
      "execution_count": 32,
      "outputs": [
        {
          "output_type": "execute_result",
          "data": {
            "text/plain": [
              "array([[ 0,  1,  2,  3,  4,  5,  6,  7,  8,  9, 10, 11, 12, 13, 14, 15,\n",
              "        16, 17, 18, 19, 20, 21, 22, 23, 24],\n",
              "       [25, 26, 27, 28, 29, 30, 31, 32, 33, 34, 35, 36, 37, 38, 39, 40,\n",
              "        41, 42, 43, 44, 45, 46, 47, 48, 49]])"
            ]
          },
          "metadata": {},
          "execution_count": 32
        }
      ]
    },
    {
      "cell_type": "code",
      "source": [
        "arr2 = np.arange(50)\n",
        "arr3 = arr2.reshape(2,25)\n",
        "print(arr3)\n"
      ],
      "metadata": {
        "colab": {
          "base_uri": "https://localhost:8080/"
        },
        "id": "fxO_vKwer5rg",
        "outputId": "bd6fe300-ef14-4731-a2c7-a4e7db7b504d"
      },
      "execution_count": 42,
      "outputs": [
        {
          "output_type": "stream",
          "name": "stdout",
          "text": [
            "[[ 0  1  2  3  4  5  6  7  8  9 10 11 12 13 14 15 16 17 18 19 20 21 22 23\n",
            "  24]\n",
            " [25 26 27 28 29 30 31 32 33 34 35 36 37 38 39 40 41 42 43 44 45 46 47 48\n",
            "  49]]\n"
          ]
        }
      ]
    },
    {
      "cell_type": "markdown",
      "source": [
        "## Crear secuancias con Numpy"
      ],
      "metadata": {
        "id": "b3qvZg_Ev2ZA"
      }
    },
    {
      "cell_type": "markdown",
      "source": [
        "**Utilizar np.arange para crear un ndarray con los valores del 20 al 100, deben ir de 2 en 2 (Ej. [20,22,..])**"
      ],
      "metadata": {
        "id": "okcmjMaavqSD"
      }
    },
    {
      "cell_type": "code",
      "source": [
        "np.arange(20, 100, 2)"
      ],
      "metadata": {
        "colab": {
          "base_uri": "https://localhost:8080/"
        },
        "id": "EsTrA4BtVNA8",
        "outputId": "0204e061-280d-411b-c400-459fc0de4609"
      },
      "execution_count": 45,
      "outputs": [
        {
          "output_type": "execute_result",
          "data": {
            "text/plain": [
              "array([20, 22, 24, 26, 28, 30, 32, 34, 36, 38, 40, 42, 44, 46, 48, 50, 52,\n",
              "       54, 56, 58, 60, 62, 64, 66, 68, 70, 72, 74, 76, 78, 80, 82, 84, 86,\n",
              "       88, 90, 92, 94, 96, 98])"
            ]
          },
          "metadata": {},
          "execution_count": 45
        }
      ]
    },
    {
      "cell_type": "markdown",
      "source": [
        "**arange(start, stop, step)** Los valores se generan dentro del intervalo semiabierto [start, stop), con un espaciado entre valores dado por step."
      ],
      "metadata": {
        "id": "EiodMBAzwT2c"
      }
    },
    {
      "cell_type": "markdown",
      "source": [
        "**Utilizar np.linspace para crear un ndarray con valores entre el 25 y 95**"
      ],
      "metadata": {
        "id": "cZ76AH3LwX-4"
      }
    },
    {
      "cell_type": "code",
      "source": [
        "np.linspace(25, 95, 30)"
      ],
      "metadata": {
        "colab": {
          "base_uri": "https://localhost:8080/"
        },
        "id": "R5sKIY_Xw-hi",
        "outputId": "99584493-a1f6-4cc5-8d7e-8a02c4e8cf52"
      },
      "execution_count": 50,
      "outputs": [
        {
          "output_type": "execute_result",
          "data": {
            "text/plain": [
              "array([25.        , 27.4137931 , 29.82758621, 32.24137931, 34.65517241,\n",
              "       37.06896552, 39.48275862, 41.89655172, 44.31034483, 46.72413793,\n",
              "       49.13793103, 51.55172414, 53.96551724, 56.37931034, 58.79310345,\n",
              "       61.20689655, 63.62068966, 66.03448276, 68.44827586, 70.86206897,\n",
              "       73.27586207, 75.68965517, 78.10344828, 80.51724138, 82.93103448,\n",
              "       85.34482759, 87.75862069, 90.17241379, 92.5862069 , 95.        ])"
            ]
          },
          "metadata": {},
          "execution_count": 50
        }
      ]
    },
    {
      "cell_type": "markdown",
      "source": [
        "**numpy.linspace(start, stop, num=50)**\n",
        "\n",
        "Devuelve números espaciados uniformemente sobre un intervalo especificado.\n",
        "\n",
        "Devuelve ***num*** de muestras espaciadas uniformemente, calculadas sobre el intervalo [start, stop].\n",
        "\n",
        "El punto final del intervalo puede excluirse opcionalmente."
      ],
      "metadata": {
        "id": "jff-aMNkxYUf"
      }
    },
    {
      "cell_type": "markdown",
      "source": [
        "## Operaciones con arreglos"
      ],
      "metadata": {
        "id": "Ygf_PbnFxyrk"
      }
    },
    {
      "cell_type": "code",
      "source": [
        "a = np.linspace(23, 45, 6)\n",
        "b = np.linspace(30, 40, 6)\n",
        "print(a,b)"
      ],
      "metadata": {
        "colab": {
          "base_uri": "https://localhost:8080/"
        },
        "id": "H4ui7j0kycsD",
        "outputId": "b662e3b4-1031-4357-df3e-5cef8f7ecd80"
      },
      "execution_count": 52,
      "outputs": [
        {
          "output_type": "stream",
          "name": "stdout",
          "text": [
            "[23.  27.4 31.8 36.2 40.6 45. ] [30. 32. 34. 36. 38. 40.]\n"
          ]
        }
      ]
    },
    {
      "cell_type": "markdown",
      "source": [
        "**Sumar los arreglos a + b**"
      ],
      "metadata": {
        "id": "z7TNg5GEyuNd"
      }
    },
    {
      "cell_type": "code",
      "source": [
        "a + b\n"
      ],
      "metadata": {
        "colab": {
          "base_uri": "https://localhost:8080/"
        },
        "id": "MAl5YNrpyy0L",
        "outputId": "3545defb-cb23-4586-e1ba-228bbb86aaf2"
      },
      "execution_count": 56,
      "outputs": [
        {
          "output_type": "execute_result",
          "data": {
            "text/plain": [
              "array([53. , 59.4, 65.8, 72.2, 78.6, 85. ])"
            ]
          },
          "metadata": {},
          "execution_count": 56
        }
      ]
    },
    {
      "cell_type": "markdown",
      "source": [
        "**Unir los arreglos anteriores y guardalos en una nueva variable**"
      ],
      "metadata": {
        "id": "Ut9FMlC-zCRt"
      }
    },
    {
      "cell_type": "code",
      "source": [
        "c = np.concatenate((a,b))\n",
        "c"
      ],
      "metadata": {
        "colab": {
          "base_uri": "https://localhost:8080/"
        },
        "id": "ij5AcYmIzIwA",
        "outputId": "e3594697-5957-456f-bd20-2cd156732f2c"
      },
      "execution_count": 60,
      "outputs": [
        {
          "output_type": "execute_result",
          "data": {
            "text/plain": [
              "array([23. , 27.4, 31.8, 36.2, 40.6, 45. , 30. , 32. , 34. , 36. , 38. ,\n",
              "       40. ])"
            ]
          },
          "metadata": {},
          "execution_count": 60
        }
      ]
    },
    {
      "cell_type": "markdown",
      "source": [
        "**Ordenar los valores del arreglo \"c\"**"
      ],
      "metadata": {
        "id": "qyBY_i6izcsQ"
      }
    },
    {
      "cell_type": "code",
      "source": [
        "c.sort()\n",
        "c"
      ],
      "metadata": {
        "colab": {
          "base_uri": "https://localhost:8080/"
        },
        "id": "GZ2ntamtzghV",
        "outputId": "0f2e98f2-011b-4fc4-c424-82d6b16fc747"
      },
      "execution_count": 61,
      "outputs": [
        {
          "output_type": "execute_result",
          "data": {
            "text/plain": [
              "array([23. , 27.4, 30. , 31.8, 32. , 34. , 36. , 36.2, 38. , 40. , 40.6,\n",
              "       45. ])"
            ]
          },
          "metadata": {},
          "execution_count": 61
        }
      ]
    },
    {
      "cell_type": "code",
      "source": [
        "## Estadística con Numpy"
      ],
      "metadata": {
        "id": "g_4aUVy30kTg"
      },
      "execution_count": null,
      "outputs": []
    },
    {
      "cell_type": "code",
      "source": [
        "estadisticos = np.random.randint(100,size=(300))\n",
        "estadisticos"
      ],
      "metadata": {
        "colab": {
          "base_uri": "https://localhost:8080/"
        },
        "id": "whkl0alH0myB",
        "outputId": "f44bc501-9652-499f-f6e3-8f1095ffd5da"
      },
      "execution_count": 103,
      "outputs": [
        {
          "output_type": "execute_result",
          "data": {
            "text/plain": [
              "array([84, 97,  9, 74, 80, 62, 16, 45, 32, 64, 41, 26, 82, 66, 37, 64, 47,\n",
              "       20, 59, 26, 18, 12, 30, 40, 75, 49, 33,  6,  2, 85, 66, 53, 11, 50,\n",
              "        8, 30, 66, 33, 81, 39, 89, 56, 34, 29, 57, 49, 57,  5, 52, 30, 46,\n",
              "       52, 55, 81, 55, 23, 61, 63, 47, 18, 26, 89, 30,  2, 50, 99, 84, 78,\n",
              "       83, 88,  0, 46, 82, 46, 51, 67, 53, 75, 43, 82, 30,  5, 95, 36, 45,\n",
              "       29, 68, 85, 61, 44, 88, 37, 36, 94, 63, 67, 48, 80, 88, 17, 79, 74,\n",
              "       46, 58, 32, 13, 73, 49, 90, 39, 42, 91, 47, 87, 91, 38,  5, 59, 38,\n",
              "       90,  7, 34, 34, 63, 44, 22, 34, 22,  9, 21, 72, 87, 30, 94, 68, 65,\n",
              "       27, 28,  5, 47,  2, 52, 13, 47, 43, 26, 18, 56, 51, 79, 85, 51, 46,\n",
              "       14, 47, 43, 35, 52, 75,  5, 51, 89, 30, 54, 53, 55, 11, 27, 49, 73,\n",
              "       79, 88, 77, 29, 79, 97, 18,  8, 98, 57, 76, 21, 48, 88, 11, 46,  6,\n",
              "       35, 48, 72, 23, 83, 39, 11, 29, 25, 51, 97, 47,  2, 97,  9, 84, 58,\n",
              "       13, 40,  4,  0, 66, 98, 16,  8, 29, 10, 25, 64,  7, 38, 85, 40,  5,\n",
              "       70, 37, 44, 52, 76, 46, 28, 75, 37, 98, 65, 88, 38, 56, 58,  9,  9,\n",
              "       84, 23,  0, 66,  2, 13,  4, 88, 87, 60, 67, 78, 47, 18, 28,  4,  4,\n",
              "       22, 77, 44, 72, 82, 12, 94, 19, 41,  4,  2, 80, 19, 88, 36, 38, 38,\n",
              "       26,  3, 69, 47, 32, 41, 18, 15, 48, 80, 16, 21, 46, 12, 42, 10, 38,\n",
              "       69, 38, 22, 94, 22, 11, 11, 23, 91,  1, 46])"
            ]
          },
          "metadata": {},
          "execution_count": 103
        }
      ]
    },
    {
      "cell_type": "markdown",
      "source": [
        "**random.randint(low, high=None, size=None, dtype=int)**\n",
        "\n",
        "Devuelve enteros aleatorios desde ***low*** (incluido) hasta ***high*** (excluido).\n"
      ],
      "metadata": {
        "id": "WLO0O6mJ4OcC"
      }
    },
    {
      "cell_type": "markdown",
      "source": [
        "**Tomar un sub arreglo del original**"
      ],
      "metadata": {
        "id": "WjU17_r46QlO"
      }
    },
    {
      "cell_type": "code",
      "source": [
        "estadisticos1 = estadisticos[40:80]\n",
        "estadisticos1"
      ],
      "metadata": {
        "colab": {
          "base_uri": "https://localhost:8080/"
        },
        "id": "Sg47gaWe01s0",
        "outputId": "17fb235a-00a0-4ac0-9ede-1e6111016c17"
      },
      "execution_count": 104,
      "outputs": [
        {
          "output_type": "execute_result",
          "data": {
            "text/plain": [
              "array([89, 56, 34, 29, 57, 49, 57,  5, 52, 30, 46, 52, 55, 81, 55, 23, 61,\n",
              "       63, 47, 18, 26, 89, 30,  2, 50, 99, 84, 78, 83, 88,  0, 46, 82, 46,\n",
              "       51, 67, 53, 75, 43, 82])"
            ]
          },
          "metadata": {},
          "execution_count": 104
        }
      ]
    },
    {
      "cell_type": "markdown",
      "source": [
        "**Utilizar la función max() y min() para obtener el valor máximo y mínimo y promedio del arrego \"estadisticos1\"**"
      ],
      "metadata": {
        "id": "DCaBMl-u6iA7"
      }
    },
    {
      "cell_type": "code",
      "source": [
        "estadisticos1.min()\n"
      ],
      "metadata": {
        "colab": {
          "base_uri": "https://localhost:8080/"
        },
        "id": "QVtnUW2i6oKV",
        "outputId": "176982a0-21da-4669-a5c3-bef7e111ed7f"
      },
      "execution_count": 105,
      "outputs": [
        {
          "output_type": "execute_result",
          "data": {
            "text/plain": [
              "0"
            ]
          },
          "metadata": {},
          "execution_count": 105
        }
      ]
    },
    {
      "cell_type": "code",
      "source": [
        "estadisticos1.max()"
      ],
      "metadata": {
        "colab": {
          "base_uri": "https://localhost:8080/"
        },
        "id": "3NNZ7gT06aLg",
        "outputId": "79389565-c36b-43e0-d530-faf12b6db3e6"
      },
      "execution_count": 106,
      "outputs": [
        {
          "output_type": "execute_result",
          "data": {
            "text/plain": [
              "99"
            ]
          },
          "metadata": {},
          "execution_count": 106
        }
      ]
    },
    {
      "cell_type": "markdown",
      "source": [
        "**Utilizar la función mean() y std() para obtener el promedio y la desviación estandar del arrego \"estadisticos1\"**\n"
      ],
      "metadata": {
        "id": "PBZn7b907r9W"
      }
    },
    {
      "cell_type": "code",
      "source": [
        "estadisticos1.mean()"
      ],
      "metadata": {
        "colab": {
          "base_uri": "https://localhost:8080/"
        },
        "id": "OvnEqQrp611r",
        "outputId": "e8654e0f-1d4c-4130-d9b3-2a2561f6128d"
      },
      "execution_count": 107,
      "outputs": [
        {
          "output_type": "execute_result",
          "data": {
            "text/plain": [
              "53.325"
            ]
          },
          "metadata": {},
          "execution_count": 107
        }
      ]
    },
    {
      "cell_type": "code",
      "source": [
        "estadisticos1.std()"
      ],
      "metadata": {
        "colab": {
          "base_uri": "https://localhost:8080/"
        },
        "id": "Dtsf4ZRd72Gb",
        "outputId": "1c8d46da-dcb3-4fcc-b6b2-00d708b5bf0d"
      },
      "execution_count": 108,
      "outputs": [
        {
          "output_type": "execute_result",
          "data": {
            "text/plain": [
              "24.82477341286321"
            ]
          },
          "metadata": {},
          "execution_count": 108
        }
      ]
    },
    {
      "cell_type": "markdown",
      "source": [
        "**Utilizar la función sum() para obtener la suma total de los elementos del arrego \"estadisticos1\"**\n"
      ],
      "metadata": {
        "id": "QDgGVd5c7cy0"
      }
    },
    {
      "cell_type": "code",
      "source": [
        "estadisticos1.sum()"
      ],
      "metadata": {
        "colab": {
          "base_uri": "https://localhost:8080/"
        },
        "id": "35ospx1f9ETv",
        "outputId": "29f6061e-1f34-4c2f-f7a9-564e8bb2eed7"
      },
      "execution_count": 109,
      "outputs": [
        {
          "output_type": "execute_result",
          "data": {
            "text/plain": [
              "2133"
            ]
          },
          "metadata": {},
          "execution_count": 109
        }
      ]
    },
    {
      "cell_type": "markdown",
      "source": [
        "##Estadísticas en 2D"
      ],
      "metadata": {
        "id": "ShlGLRXS90GZ"
      }
    },
    {
      "cell_type": "code",
      "source": [
        "estadistica_2D = np.random.randint(50, size=(6, 8))\n",
        "estadistica_2D"
      ],
      "metadata": {
        "colab": {
          "base_uri": "https://localhost:8080/"
        },
        "id": "E8Yyl_8c9ifE",
        "outputId": "95f644fd-a8f8-4846-e248-b0dd15068f5f"
      },
      "execution_count": 114,
      "outputs": [
        {
          "output_type": "execute_result",
          "data": {
            "text/plain": [
              "array([[22, 48, 43,  8, 27,  1, 10, 22],\n",
              "       [25, 36, 29, 29, 34, 34, 36, 41],\n",
              "       [46, 37, 22, 17, 48,  4, 17,  3],\n",
              "       [ 7, 15, 44, 14,  8, 38, 25,  8],\n",
              "       [ 1, 41, 32, 42, 33, 23, 23, 46],\n",
              "       [29, 19, 47, 32, 10,  6, 23,  7]])"
            ]
          },
          "metadata": {},
          "execution_count": 114
        }
      ]
    },
    {
      "cell_type": "markdown",
      "source": [
        "**Utilizar la función min() para obtener el valor mínimo de cada columna y fila en el ndarray \"estadistica_2D\"**"
      ],
      "metadata": {
        "id": "2Qi9ge8g-JCG"
      }
    },
    {
      "cell_type": "code",
      "source": [
        "estadistica_2D.min(axis=0)"
      ],
      "metadata": {
        "colab": {
          "base_uri": "https://localhost:8080/"
        },
        "id": "z1Ns7CGE9y_p",
        "outputId": "6827229c-b7ad-447f-8aee-4c1dbdf1f962"
      },
      "execution_count": 115,
      "outputs": [
        {
          "output_type": "execute_result",
          "data": {
            "text/plain": [
              "array([ 1, 15, 22,  8,  8,  1, 10,  3])"
            ]
          },
          "metadata": {},
          "execution_count": 115
        }
      ]
    },
    {
      "cell_type": "code",
      "source": [
        "estadistica_2D.min(axis=1)"
      ],
      "metadata": {
        "colab": {
          "base_uri": "https://localhost:8080/"
        },
        "id": "bvfvQCsS_AW8",
        "outputId": "e85e61ec-2498-4c9b-a50e-45e68b7fa2b1"
      },
      "execution_count": 116,
      "outputs": [
        {
          "output_type": "execute_result",
          "data": {
            "text/plain": [
              "array([ 1, 25,  3,  7,  1,  6])"
            ]
          },
          "metadata": {},
          "execution_count": 116
        }
      ]
    },
    {
      "cell_type": "markdown",
      "source": [
        "**numpy.min(a, axis=None)**\n",
        "***axis*** = Eje o ejes a lo largo de los cuales operar (0 = columnas, 1 = filas)."
      ],
      "metadata": {
        "id": "7L4wf_pJ-b-u"
      }
    },
    {
      "cell_type": "markdown",
      "source": [
        "## Filtros"
      ],
      "metadata": {
        "id": "CXHsXqh__glC"
      }
    },
    {
      "cell_type": "markdown",
      "source": [
        "**Obtener los valores mayores a 8 en el arreglo \"estadistica_2d\"**"
      ],
      "metadata": {
        "id": "7k9-uOiI_pyI"
      }
    },
    {
      "cell_type": "code",
      "source": [
        "estadistica_2D > 8"
      ],
      "metadata": {
        "colab": {
          "base_uri": "https://localhost:8080/"
        },
        "id": "l2qthxDv_h-y",
        "outputId": "5b69bf14-028f-4893-f568-4f63afd0de65"
      },
      "execution_count": 119,
      "outputs": [
        {
          "output_type": "execute_result",
          "data": {
            "text/plain": [
              "array([[ True,  True,  True, False,  True, False,  True,  True],\n",
              "       [ True,  True,  True,  True,  True,  True,  True,  True],\n",
              "       [ True,  True,  True,  True,  True, False,  True, False],\n",
              "       [False,  True,  True,  True, False,  True,  True, False],\n",
              "       [False,  True,  True,  True,  True,  True,  True,  True],\n",
              "       [ True,  True,  True,  True,  True, False,  True, False]])"
            ]
          },
          "metadata": {},
          "execution_count": 119
        }
      ]
    },
    {
      "cell_type": "code",
      "source": [
        "estadistica_2D[estadistica_2D > 8]"
      ],
      "metadata": {
        "colab": {
          "base_uri": "https://localhost:8080/"
        },
        "id": "rVwwPkUT_2u_",
        "outputId": "3f6ed3fb-62ab-41a6-a559-9e6cf68834a0"
      },
      "execution_count": 120,
      "outputs": [
        {
          "output_type": "execute_result",
          "data": {
            "text/plain": [
              "array([22, 48, 43, 27, 10, 22, 25, 36, 29, 29, 34, 34, 36, 41, 46, 37, 22,\n",
              "       17, 48, 17, 15, 44, 14, 38, 25, 41, 32, 42, 33, 23, 23, 46, 29, 19,\n",
              "       47, 32, 10, 23])"
            ]
          },
          "metadata": {},
          "execution_count": 120
        }
      ]
    },
    {
      "cell_type": "markdown",
      "source": [
        "## Acceder a elementos del arreglo"
      ],
      "metadata": {
        "id": "8JFolGVxBiar"
      }
    },
    {
      "cell_type": "markdown",
      "source": [
        "Seleccionar el tercer valor de la cuarta fila de \"arr_2D\""
      ],
      "metadata": {
        "id": "eOkJ09EoBiYr"
      }
    },
    {
      "cell_type": "code",
      "source": [
        "arr_2D = np.random.randint(50, size=(12, 10))\n",
        "arr_2D"
      ],
      "metadata": {
        "colab": {
          "base_uri": "https://localhost:8080/"
        },
        "id": "UZojLRdfBRiC",
        "outputId": "cc4daeca-4ff4-4e0f-d47b-a0f51d4a207c"
      },
      "execution_count": 121,
      "outputs": [
        {
          "output_type": "execute_result",
          "data": {
            "text/plain": [
              "array([[ 5, 19,  1,  6, 39, 36, 13, 28,  2,  0],\n",
              "       [27, 27,  2,  8, 45, 19, 31, 16, 32, 13],\n",
              "       [ 3, 19, 47, 30, 30, 28, 14,  5,  1,  6],\n",
              "       [ 0,  9, 27, 31,  4, 22, 21, 14, 41, 19],\n",
              "       [41, 36, 49, 16, 11,  0, 49, 26, 16, 29],\n",
              "       [15,  4, 41,  5,  6, 10, 49, 28,  3, 15],\n",
              "       [ 2, 33, 28, 36, 46, 21, 11, 21,  6, 24],\n",
              "       [37,  2,  3, 10,  5, 29, 23,  5, 20, 29],\n",
              "       [ 9, 40, 37, 33, 32, 47, 21,  5, 24, 35],\n",
              "       [27, 22, 32, 14, 10, 19, 35, 18, 47,  0],\n",
              "       [31, 44,  1, 10,  0, 38, 18, 34, 37,  2],\n",
              "       [ 5, 43,  9, 32, 10, 19, 44, 43, 39, 12]])"
            ]
          },
          "metadata": {},
          "execution_count": 121
        }
      ]
    },
    {
      "cell_type": "code",
      "source": [
        "arr_2D[3,2]"
      ],
      "metadata": {
        "colab": {
          "base_uri": "https://localhost:8080/"
        },
        "id": "O179JZneBqgz",
        "outputId": "60b93d7d-fdee-4fb5-f827-eed3ebc67933"
      },
      "execution_count": 124,
      "outputs": [
        {
          "output_type": "execute_result",
          "data": {
            "text/plain": [
              "27"
            ]
          },
          "metadata": {},
          "execution_count": 124
        }
      ]
    },
    {
      "cell_type": "markdown",
      "source": [
        "Seleccionar los valores en la posición 5 de las filas 5-8\n",
        "\n",
        "\n",
        "\n"
      ],
      "metadata": {
        "id": "g2s8OJRhDQsZ"
      }
    },
    {
      "cell_type": "code",
      "source": [
        "arr_2D[5:8,5]"
      ],
      "metadata": {
        "colab": {
          "base_uri": "https://localhost:8080/"
        },
        "id": "I1Qf7WcWDPGj",
        "outputId": "a962f40f-6ff7-4679-8fac-6dd81efeb1c4"
      },
      "execution_count": 126,
      "outputs": [
        {
          "output_type": "execute_result",
          "data": {
            "text/plain": [
              "array([10, 21, 29])"
            ]
          },
          "metadata": {},
          "execution_count": 126
        }
      ]
    },
    {
      "cell_type": "markdown",
      "source": [
        "Seleccionar los valores en la posición 3-6 de las filas 1-4"
      ],
      "metadata": {
        "id": "yEyHCuAKEfKw"
      }
    },
    {
      "cell_type": "code",
      "source": [
        "arr_2D[1:4,3:6]"
      ],
      "metadata": {
        "colab": {
          "base_uri": "https://localhost:8080/"
        },
        "id": "foS9E82AEfW1",
        "outputId": "20000209-10e5-4adc-c9aa-61eb3bdc33d3"
      },
      "execution_count": 127,
      "outputs": [
        {
          "output_type": "execute_result",
          "data": {
            "text/plain": [
              "array([[ 8, 45, 19],\n",
              "       [30, 30, 28],\n",
              "       [31,  4, 22]])"
            ]
          },
          "metadata": {},
          "execution_count": 127
        }
      ]
    }
  ]
}