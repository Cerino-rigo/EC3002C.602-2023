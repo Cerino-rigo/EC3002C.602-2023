{
  "nbformat": 4,
  "nbformat_minor": 0,
  "metadata": {
    "colab": {
      "provenance": [],
      "mount_file_id": "1zlia6UJ7nTKNvKUsTF4iq8U4G332-caN",
      "authorship_tag": "ABX9TyMTM18dN3xKX1MjMW78kQsW",
      "include_colab_link": true
    },
    "kernelspec": {
      "name": "python3",
      "display_name": "Python 3"
    },
    "language_info": {
      "name": "python"
    }
  },
  "cells": [
    {
      "cell_type": "markdown",
      "metadata": {
        "id": "view-in-github",
        "colab_type": "text"
      },
      "source": [
        "<a href=\"https://colab.research.google.com/github/Cerino-rigo/EC3002C.602-2023/blob/main/Numpy.ipynb\" target=\"_parent\"><img src=\"https://colab.research.google.com/assets/colab-badge.svg\" alt=\"Open In Colab\"/></a>"
      ]
    },
    {
      "cell_type": "markdown",
      "source": [
        "# Numpy"
      ],
      "metadata": {
        "id": "BK_6-j1ufA_Q"
      }
    },
    {
      "cell_type": "markdown",
      "source": [
        "**Importar librería Numpy**"
      ],
      "metadata": {
        "id": "cvG_IMNziaRb"
      }
    },
    {
      "cell_type": "code",
      "source": [
        "#Importar librería Numpy\n",
        "import numpy as np"
      ],
      "metadata": {
        "id": "r1t39orpgW68"
      },
      "execution_count": null,
      "outputs": []
    },
    {
      "cell_type": "code",
      "source": [
        "# Array de una dimensión\n",
        "a1 = np.array([1, 2, 3])\n",
        "print(a1)\n"
      ],
      "metadata": {
        "id": "uEG6Ioo_XsYg"
      },
      "execution_count": null,
      "outputs": []
    },
    {
      "cell_type": "code",
      "source": [
        "# Array de dos dimensiones\n",
        "a2 = np.array([[1, 2, 3], [4, 5, 6]])\n",
        "print(a2)\n"
      ],
      "metadata": {
        "id": "JcUr_rt1gOaL"
      },
      "execution_count": null,
      "outputs": []
    },
    {
      "cell_type": "code",
      "source": [
        "# Array de tres dimensiones\n",
        "a3 = np.array([[[1, 2, 3], [4, 5, 6]], [[7, 8, 9], [10, 11, 12]]])\n",
        "print(a3)"
      ],
      "metadata": {
        "id": "uRV9oXWWf-4u"
      },
      "execution_count": null,
      "outputs": []
    },
    {
      "cell_type": "markdown",
      "source": [
        "Un array, es un tipo de dato estructurado que permite almacenar un conjunto de datos homogeneo, es decir, todos ellos del mismo tipo y relacionados. Cada uno de los elementos que componen un array pueden ser de tipo simple como caracteres, entero o real, o de tipo compuesto o estructurado como son vectores, estructuras, listas.\n",
        "\n",
        "Están organizados en forma de tabla o cuadrícula de distintas dimensiones (1,2,3), también conocida como ejes. La estructura más básica es un vector (1 dimensión)\n",
        "\n",
        "A los datos almacenados en un array se les denomina elementos; al número de elementos de un array se les denomina tamaño o rango del vector.\n",
        "\n",
        "\n",
        "\n",
        "\n"
      ],
      "metadata": {
        "id": "PM0JaexDfSdn"
      }
    },
    {
      "cell_type": "markdown",
      "source": [
        "**Importar un ndarray utilizando una lista**"
      ],
      "metadata": {
        "id": "N2XFtsYZji1Z"
      }
    },
    {
      "cell_type": "code",
      "source": [
        "lista_2d=[[2,3,9],\n",
        "          [6,9,2],\n",
        "          [9,3,7],\n",
        "          [1,4,8]]"
      ],
      "metadata": {
        "id": "0Uqhmnz7jPii"
      },
      "execution_count": null,
      "outputs": []
    },
    {
      "cell_type": "code",
      "source": [
        "arr = np.array(lista_2d)"
      ],
      "metadata": {
        "id": "wqR-QsaOe9iK"
      },
      "execution_count": null,
      "outputs": []
    },
    {
      "cell_type": "markdown",
      "source": [
        "**Utilizar la propiedad shape para obtener la forma del arreglo**"
      ],
      "metadata": {
        "id": "BWPG0fCBfA85"
      }
    },
    {
      "cell_type": "code",
      "source": [
        "arr.shape\n",
        "# Devuelve la forma del arregalo (Filas x Columnas)"
      ],
      "metadata": {
        "id": "rmGRoug8YfM2"
      },
      "execution_count": null,
      "outputs": []
    },
    {
      "cell_type": "markdown",
      "source": [
        "**Utilizar la propiedad ndim para obtener las dimensiones del arreglo**"
      ],
      "metadata": {
        "id": "-_eL7WzklXOk"
      }
    },
    {
      "cell_type": "code",
      "source": [
        "arr.ndim\n"
      ],
      "metadata": {
        "id": "560uOMI9YkJ5"
      },
      "execution_count": null,
      "outputs": []
    },
    {
      "cell_type": "markdown",
      "source": [
        "**Utilizar la propiedad dtype para conecer el tipo de datos del arreglo**"
      ],
      "metadata": {
        "id": "gvF90EkbmoLY"
      }
    },
    {
      "cell_type": "code",
      "source": [
        "arr.dtype"
      ],
      "metadata": {
        "id": "ER4N9FCDaMJG"
      },
      "execution_count": null,
      "outputs": []
    },
    {
      "cell_type": "markdown",
      "source": [
        "**Utilizar la propiedad size para conecer la cantidad total de datos del arreglo**"
      ],
      "metadata": {
        "id": "PCxWDE-Hlba7"
      }
    },
    {
      "cell_type": "code",
      "source": [
        "arr.size\n"
      ],
      "metadata": {
        "id": "7hkkPAAZbrIp"
      },
      "execution_count": null,
      "outputs": []
    },
    {
      "cell_type": "markdown",
      "source": [
        "## Crear arreglos de ceros y unos"
      ],
      "metadata": {
        "id": "EHO28WUNng4A"
      }
    },
    {
      "cell_type": "markdown",
      "source": [
        "**Utilizar la función np.zeros para crear un ndarray con la forma 4x3**"
      ],
      "metadata": {
        "id": "xGp2zfxnnTm7"
      }
    },
    {
      "cell_type": "code",
      "source": [
        "np.zeros((4,3))"
      ],
      "metadata": {
        "id": "Qz4m0n1paZ8V"
      },
      "execution_count": null,
      "outputs": []
    },
    {
      "cell_type": "markdown",
      "source": [
        "**Utilizar la función np.ones para crear un ndarray con la forma 5x5**"
      ],
      "metadata": {
        "id": "dBz_oo7OoIBl"
      }
    },
    {
      "cell_type": "code",
      "source": [
        "np.ones((5,5))\n"
      ],
      "metadata": {
        "id": "cUO2jFQUdE-p"
      },
      "execution_count": null,
      "outputs": []
    },
    {
      "cell_type": "markdown",
      "source": [
        "**Crear un ndarray de 1 dimensión con valores del 0 al 49 (Ej. [1,2,3,...])**"
      ],
      "metadata": {
        "id": "qc2aI9G7qiDm"
      }
    },
    {
      "cell_type": "code",
      "execution_count": null,
      "metadata": {
        "id": "TS_Mn6LTQXVh"
      },
      "outputs": [],
      "source": [
        "np.arange(50)\n"
      ]
    },
    {
      "cell_type": "markdown",
      "source": [
        "Crear un ndarray de 2 dimensión con la forma 2x50,los valores deben ser del 0 al 49 (Ej. [[0,1,2,...,24],[25,6,..]])"
      ],
      "metadata": {
        "id": "d8J2N2SDreBS"
      }
    },
    {
      "cell_type": "code",
      "source": [
        "np.arange(50).reshape(2,25)"
      ],
      "metadata": {
        "id": "KGNhIKiWR3N8"
      },
      "execution_count": null,
      "outputs": []
    },
    {
      "cell_type": "code",
      "source": [
        "arr2 = np.arange(50)\n",
        "arr3 = arr2.reshape(2,25)\n",
        "print(arr3)\n"
      ],
      "metadata": {
        "id": "fxO_vKwer5rg"
      },
      "execution_count": null,
      "outputs": []
    },
    {
      "cell_type": "markdown",
      "source": [
        "## Crear secuancias con Numpy"
      ],
      "metadata": {
        "id": "b3qvZg_Ev2ZA"
      }
    },
    {
      "cell_type": "markdown",
      "source": [
        "**Utilizar np.arange para crear un ndarray con los valores del 20 al 100, deben ir de 2 en 2 (Ej. [20,22,..])**"
      ],
      "metadata": {
        "id": "okcmjMaavqSD"
      }
    },
    {
      "cell_type": "code",
      "source": [
        "np.arange(20, 100, 2)"
      ],
      "metadata": {
        "id": "EsTrA4BtVNA8"
      },
      "execution_count": null,
      "outputs": []
    },
    {
      "cell_type": "markdown",
      "source": [
        "**arange(start, stop, step)** Los valores se generan dentro del intervalo semiabierto [start, stop), con un espaciado entre valores dado por step."
      ],
      "metadata": {
        "id": "EiodMBAzwT2c"
      }
    },
    {
      "cell_type": "markdown",
      "source": [
        "**Utilizar np.linspace para crear un ndarray con valores entre el 25 y 95**"
      ],
      "metadata": {
        "id": "cZ76AH3LwX-4"
      }
    },
    {
      "cell_type": "code",
      "source": [
        "np.linspace(25, 95, 30)"
      ],
      "metadata": {
        "id": "R5sKIY_Xw-hi"
      },
      "execution_count": null,
      "outputs": []
    },
    {
      "cell_type": "markdown",
      "source": [
        "**numpy.linspace(start, stop, num=50)**\n",
        "\n",
        "Devuelve números espaciados uniformemente sobre un intervalo especificado.\n",
        "\n",
        "Devuelve ***num*** de muestras espaciadas uniformemente, calculadas sobre el intervalo [start, stop]."
      ],
      "metadata": {
        "id": "jff-aMNkxYUf"
      }
    },
    {
      "cell_type": "markdown",
      "source": [
        "## Operaciones con arreglos"
      ],
      "metadata": {
        "id": "Ygf_PbnFxyrk"
      }
    },
    {
      "cell_type": "code",
      "source": [
        "a = np.linspace(23, 45, 6)\n",
        "b = np.linspace(30, 40, 6)\n",
        "print(a,b)"
      ],
      "metadata": {
        "id": "H4ui7j0kycsD"
      },
      "execution_count": null,
      "outputs": []
    },
    {
      "cell_type": "markdown",
      "source": [
        "**Sumar los arreglos a + b**"
      ],
      "metadata": {
        "id": "z7TNg5GEyuNd"
      }
    },
    {
      "cell_type": "code",
      "source": [
        "a + b\n"
      ],
      "metadata": {
        "id": "MAl5YNrpyy0L"
      },
      "execution_count": null,
      "outputs": []
    },
    {
      "cell_type": "markdown",
      "source": [
        "**Unir los arreglos anteriores y guardalos en una nueva variable**"
      ],
      "metadata": {
        "id": "Ut9FMlC-zCRt"
      }
    },
    {
      "cell_type": "code",
      "source": [
        "c = np.concatenate((a,b))\n",
        "c"
      ],
      "metadata": {
        "id": "ij5AcYmIzIwA"
      },
      "execution_count": null,
      "outputs": []
    },
    {
      "cell_type": "markdown",
      "source": [
        "**Ordenar los valores del arreglo \"c\"**"
      ],
      "metadata": {
        "id": "qyBY_i6izcsQ"
      }
    },
    {
      "cell_type": "code",
      "source": [
        "c.sort()\n",
        "c"
      ],
      "metadata": {
        "id": "GZ2ntamtzghV"
      },
      "execution_count": null,
      "outputs": []
    },
    {
      "cell_type": "markdown",
      "source": [
        "## Estadística con Numpy"
      ],
      "metadata": {
        "id": "Kh5_Me1SJuMd"
      }
    },
    {
      "cell_type": "code",
      "source": [
        "estadisticos = np.random.randint(100,size=(300))\n",
        "estadisticos"
      ],
      "metadata": {
        "id": "whkl0alH0myB"
      },
      "execution_count": null,
      "outputs": []
    },
    {
      "cell_type": "markdown",
      "source": [
        "**random.randint(low, high=None, size=None, dtype=int)**\n",
        "\n",
        "Devuelve enteros aleatorios desde ***low*** (incluido) hasta ***high*** (excluido).\n"
      ],
      "metadata": {
        "id": "WLO0O6mJ4OcC"
      }
    },
    {
      "cell_type": "markdown",
      "source": [
        "**Tomar un sub arreglo del original**"
      ],
      "metadata": {
        "id": "WjU17_r46QlO"
      }
    },
    {
      "cell_type": "code",
      "source": [
        "estadisticos1 = estadisticos[40:80]\n",
        "estadisticos1"
      ],
      "metadata": {
        "id": "Sg47gaWe01s0"
      },
      "execution_count": null,
      "outputs": []
    },
    {
      "cell_type": "markdown",
      "source": [
        "**Utilizar la función max() y min() para obtener el valor máximo y mínimo y promedio del arrego \"estadisticos1\"**"
      ],
      "metadata": {
        "id": "DCaBMl-u6iA7"
      }
    },
    {
      "cell_type": "code",
      "source": [
        "estadisticos1.min()\n"
      ],
      "metadata": {
        "id": "QVtnUW2i6oKV"
      },
      "execution_count": null,
      "outputs": []
    },
    {
      "cell_type": "code",
      "source": [
        "estadisticos1.max()"
      ],
      "metadata": {
        "id": "3NNZ7gT06aLg"
      },
      "execution_count": null,
      "outputs": []
    },
    {
      "cell_type": "markdown",
      "source": [
        "**Utilizar la función mean() y std() para obtener el promedio y la desviación estandar del arrego \"estadisticos1\"**\n"
      ],
      "metadata": {
        "id": "PBZn7b907r9W"
      }
    },
    {
      "cell_type": "code",
      "source": [
        "estadisticos1.mean()"
      ],
      "metadata": {
        "id": "OvnEqQrp611r"
      },
      "execution_count": null,
      "outputs": []
    },
    {
      "cell_type": "code",
      "source": [
        "estadisticos1.std()"
      ],
      "metadata": {
        "id": "Dtsf4ZRd72Gb"
      },
      "execution_count": null,
      "outputs": []
    },
    {
      "cell_type": "markdown",
      "source": [
        "**Utilizar la función sum() para obtener la suma total de los elementos del arrego \"estadisticos1\"**\n"
      ],
      "metadata": {
        "id": "QDgGVd5c7cy0"
      }
    },
    {
      "cell_type": "code",
      "source": [
        "estadisticos1.sum()"
      ],
      "metadata": {
        "id": "35ospx1f9ETv"
      },
      "execution_count": null,
      "outputs": []
    },
    {
      "cell_type": "markdown",
      "source": [
        "##Estadísticas en 2D"
      ],
      "metadata": {
        "id": "ShlGLRXS90GZ"
      }
    },
    {
      "cell_type": "code",
      "source": [
        "estadistica_2D = np.random.randint(50, size=(6, 8))\n",
        "estadistica_2D"
      ],
      "metadata": {
        "id": "E8Yyl_8c9ifE"
      },
      "execution_count": null,
      "outputs": []
    },
    {
      "cell_type": "markdown",
      "source": [
        "**Utilizar la función min() para obtener el valor mínimo de cada columna y fila en el ndarray \"estadistica_2D\"**"
      ],
      "metadata": {
        "id": "2Qi9ge8g-JCG"
      }
    },
    {
      "cell_type": "code",
      "source": [
        "estadistica_2D.min(axis=0)"
      ],
      "metadata": {
        "id": "z1Ns7CGE9y_p"
      },
      "execution_count": null,
      "outputs": []
    },
    {
      "cell_type": "code",
      "source": [
        "estadistica_2D.min(axis=1)"
      ],
      "metadata": {
        "id": "bvfvQCsS_AW8"
      },
      "execution_count": null,
      "outputs": []
    },
    {
      "cell_type": "markdown",
      "source": [
        "**numpy.min(a, axis=None)**\n",
        "***axis*** = Eje o ejes a lo largo de los cuales operar (0 = columnas, 1 = filas)."
      ],
      "metadata": {
        "id": "7L4wf_pJ-b-u"
      }
    },
    {
      "cell_type": "markdown",
      "source": [
        "## Filtros"
      ],
      "metadata": {
        "id": "CXHsXqh__glC"
      }
    },
    {
      "cell_type": "markdown",
      "source": [
        "**Obtener los valores mayores a 8 en el arreglo \"estadistica_2d\"**"
      ],
      "metadata": {
        "id": "7k9-uOiI_pyI"
      }
    },
    {
      "cell_type": "code",
      "source": [
        "estadistica_2D > 8"
      ],
      "metadata": {
        "id": "l2qthxDv_h-y"
      },
      "execution_count": null,
      "outputs": []
    },
    {
      "cell_type": "code",
      "source": [
        "estadistica_2D[estadistica_2D > 8]"
      ],
      "metadata": {
        "id": "rVwwPkUT_2u_"
      },
      "execution_count": null,
      "outputs": []
    },
    {
      "cell_type": "markdown",
      "source": [
        "## Acceder a elementos del arreglo"
      ],
      "metadata": {
        "id": "8JFolGVxBiar"
      }
    },
    {
      "cell_type": "markdown",
      "source": [
        "Seleccionar el tercer valor de la cuarta fila de \"arr_2D\""
      ],
      "metadata": {
        "id": "eOkJ09EoBiYr"
      }
    },
    {
      "cell_type": "code",
      "source": [
        "arr_2D = np.random.randint(50, size=(12, 10))\n",
        "arr_2D"
      ],
      "metadata": {
        "id": "UZojLRdfBRiC"
      },
      "execution_count": null,
      "outputs": []
    },
    {
      "cell_type": "code",
      "source": [
        "arr_2D[3,2]"
      ],
      "metadata": {
        "id": "O179JZneBqgz"
      },
      "execution_count": null,
      "outputs": []
    },
    {
      "cell_type": "markdown",
      "source": [
        "Seleccionar los valores en la posición 5 de las filas 5-8\n",
        "\n",
        "\n",
        "\n"
      ],
      "metadata": {
        "id": "g2s8OJRhDQsZ"
      }
    },
    {
      "cell_type": "code",
      "source": [
        "arr_2D[5:8,5]"
      ],
      "metadata": {
        "id": "I1Qf7WcWDPGj"
      },
      "execution_count": null,
      "outputs": []
    },
    {
      "cell_type": "markdown",
      "source": [
        "Seleccionar los valores en la posición 3-6 de las filas 1-4"
      ],
      "metadata": {
        "id": "yEyHCuAKEfKw"
      }
    },
    {
      "cell_type": "code",
      "source": [
        "arr_2D[1:4,3:6]"
      ],
      "metadata": {
        "id": "foS9E82AEfW1"
      },
      "execution_count": null,
      "outputs": []
    }
  ]
}