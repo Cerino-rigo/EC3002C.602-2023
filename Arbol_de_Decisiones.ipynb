{
  "nbformat": 4,
  "nbformat_minor": 0,
  "metadata": {
    "colab": {
      "provenance": [],
      "include_colab_link": true
    },
    "kernelspec": {
      "name": "python3",
      "display_name": "Python 3"
    }
  },
  "cells": [
    {
      "cell_type": "markdown",
      "metadata": {
        "id": "view-in-github",
        "colab_type": "text"
      },
      "source": [
        "<a href=\"https://colab.research.google.com/github/Cerino-rigo/EC3002C.602-2023/blob/main/Arbol_de_Decisiones.ipynb\" target=\"_parent\"><img src=\"https://colab.research.google.com/assets/colab-badge.svg\" alt=\"Open In Colab\"/></a>"
      ]
    },
    {
      "cell_type": "markdown",
      "metadata": {
        "id": "o2SmePwcn289"
      },
      "source": [
        " # **Modelos supervisados: Árbol de Decisión para Clasificación con `sklearn`</font>**\n"
      ]
    },
    {
      "cell_type": "markdown",
      "source": [
        "<p align=\"justify\">\n",
        "A continuación, se presentará el funcionamiento de los <b>árboles de decisión en problemas de clasificación</b>.\n",
        "<br>\n",
        "<br>\n",
        "Los árboles de decisión en clasificación se utilizan para predecir variables respuesta categóricas. Los métodos de machine learning basados en árboles engloban a un conjunto de técnicas supervisadas no paramétricas que consiguen segmentar el espacio muestral en regiones más pequeñas.\n",
        "<br>\n",
        "<br>\n",
        "La principal implementación de árboles de decisión en Python está disponible en la librería <code>scikit-learn</code> a través de las clases <code>DecisionTreeClassifier</code> y <code>DecisionTreeRegressor</code>.\n",
        "<br>\n",
        "<br>\n",
        "Como criterio de selección de las divisiones óptimas existen varias alternativas, todas ellas con el objetivo de encontrar nodos lo más puros/homogéneos posible.\n",
        "<br>\n",
        "<br>\n",
        "Las criterios para medir la pureza de los nodos más empleadas son:\n",
        "\n",
        "- **Índice Gini**: cuantifica la varianza total en el conjunto de las  $n$ clases del nodo. Cuando Gini es 0, significa que ese nodo es totalmente puro. Por el contrario, si la frecuencia de cada clase es la misma, el valor del Índice Gini alcanza el valor máximo de 0.5. La impureza se refiere a cómo de mezcladas están las clases en cada nodo.\n",
        "<br>\n",
        "<br>  \n",
        "\n",
        "$$G = 1- \\sum_{i=1}^n ({p}_{i})^2$$\n",
        "<br>\n",
        "\n",
        "<p align=\"justify\">\n",
        "Donde $p_i$ representa la proporción de observaciones del nodo que pertenecen a\n",
        "la clase  $i$.\n",
        "\n",
        "- **Entropía**: es una forma de cuantificar el desorden de un sistema. En el caso de los nodos, el desorden se corresponde con la impureza. Si un nodo es puro, contiene únicamente observaciones de una clase, su entropía es 0. Por el contrario, si la frecuencia de cada clase es la misma, el valor de la entropía alcanza el valor máximo de 1.\n",
        "<br>\n",
        "<br>\n",
        "\n",
        "$$ H = \\sum_{i=1}^n -{p}_{i} \\ log({p}_{i}) $$\n",
        "<br>\n",
        "\n",
        "Observa el siguiente ejemplo:"
      ],
      "metadata": {
        "id": "cO9MFSJjXPmD"
      }
    },
    {
      "cell_type": "markdown",
      "source": [
        "<p align=\"justify\">\n",
        "Graficamente la Entropía o pureza del nodo se puede visualizar del siguiente modo:\n"
      ],
      "metadata": {
        "id": "l9pp9yEVdO_P"
      }
    },
    {
      "cell_type": "markdown",
      "source": [
        "<p align=\"center\">\n",
        "<img src=\"https://github.com/cristiandarioortegayubro/BDS/blob/main/images/Arbol-002.png?raw=true\" width=\"300\">\n",
        "</p>"
      ],
      "metadata": {
        "id": "0IPlBWaLP1tv"
      }
    },
    {
      "cell_type": "markdown",
      "metadata": {
        "id": "dT2-msbVrSQk"
      },
      "source": [
        "## **Bibliotecas**"
      ]
    },
    {
      "cell_type": "code",
      "source": [
        "from google.colab import drive\n",
        "drive.mount('/content/drive')"
      ],
      "metadata": {
        "id": "oTrEtnB61QQ6"
      },
      "execution_count": null,
      "outputs": []
    },
    {
      "cell_type": "code",
      "metadata": {
        "id": "CRdT1kd7rJ8o"
      },
      "source": [
        "# Operaciones matemáticas y estadísticas\n",
        "import pandas as pd\n",
        "import numpy as np"
      ],
      "execution_count": null,
      "outputs": []
    },
    {
      "cell_type": "code",
      "metadata": {
        "id": "AuHEoL90rnf2"
      },
      "source": [
        "# Visualización\n",
        "import plotly.express as px\n",
        "import plotly.graph_objs as go"
      ],
      "execution_count": null,
      "outputs": []
    },
    {
      "cell_type": "markdown",
      "metadata": {
        "id": "zj64cpBhsW4Q"
      },
      "source": [
        "## **Conjunto de Datos**"
      ]
    },
    {
      "cell_type": "markdown",
      "source": [
        "<p align=\"justify\">\n",
        "El conjunto de datos <code>Carseats</code>, contiene información sobre la venta de sillas infantiles en 400 tiendas distintas.\n",
        "<br>\n",
        "<br>\n",
        "Para cada una de las 400 tiendas se han registrado 11 variables. Se pretende generar un modelo de clasificación que permita predecir si una tienda tiene ventas altas (<code>Sales</code> $>$ 9) o bajas (<code>Sales</code> $<=$ 9) en función de todas las variables disponibles."
      ],
      "metadata": {
        "id": "CmZrMTKpXttH"
      }
    },
    {
      "cell_type": "code",
      "source": [
        "import statsmodels.api as sm\n",
        "carseats = sm.datasets.get_rdataset(\"Carseats\", \"ISLR\")\n",
        "datos = carseats.data\n",
        "print(carseats.__doc__)"
      ],
      "metadata": {
        "id": "tIUUi5_ULJFs"
      },
      "execution_count": null,
      "outputs": []
    },
    {
      "cell_type": "code",
      "metadata": {
        "id": "arsPyTGL1Ydp"
      },
      "source": [
        "datos.head()"
      ],
      "execution_count": null,
      "outputs": []
    },
    {
      "cell_type": "code",
      "source": [
        "datos.info()"
      ],
      "metadata": {
        "id": "0RsmeDhgmnrx"
      },
      "execution_count": null,
      "outputs": []
    },
    {
      "cell_type": "markdown",
      "source": [
        "<p align=\"justify\">\n",
        "Como <code>Sales</code> es una variable continua y el objetivo del estudio es clasificar las tiendas según si venden mucho o poco, se crea una nueva variable dicotómica (<code>'altas'</code>, <code>'bajas'</code>) llamada <code>sales</code>."
      ],
      "metadata": {
        "id": "wEOpy39bxFgx"
      }
    },
    {
      "cell_type": "code",
      "source": [
        "datos['sales'] = datos.Sales.apply(lambda x: \"altas\" if x > 9 else \"bajas\")\n",
        "#datos['sales'] = np.where(datos.Sales > 9, \"altas\", \"bajas\")"
      ],
      "metadata": {
        "id": "VeeT_M-7C2yl"
      },
      "execution_count": null,
      "outputs": []
    },
    {
      "cell_type": "code",
      "source": [
        "datos.head()"
      ],
      "metadata": {
        "id": "NPDgMudm4tKW"
      },
      "execution_count": null,
      "outputs": []
    },
    {
      "cell_type": "markdown",
      "source": [
        "<p align=\"justify\">\n",
        "Una vez creada la nueva variable respuesta categórica se descarta la original mediante el método <code>drop()</code>."
      ],
      "metadata": {
        "id": "XSo9LudnJycm"
      }
    },
    {
      "cell_type": "code",
      "source": [
        "datos = datos.drop(columns = 'Sales')"
      ],
      "metadata": {
        "id": "l_fs6w96CXXH"
      },
      "execution_count": null,
      "outputs": []
    },
    {
      "cell_type": "code",
      "source": [
        "datos.head()"
      ],
      "metadata": {
        "id": "ciUbkVDKDODr"
      },
      "execution_count": null,
      "outputs": []
    },
    {
      "cell_type": "markdown",
      "source": [
        "## **Análisis Gráfico**"
      ],
      "metadata": {
        "id": "tK5HbyQ2cgAM"
      }
    },
    {
      "cell_type": "code",
      "source": [
        "px.scatter(datos,\n",
        "           x='Price',\n",
        "           y='Age',\n",
        "           color='sales',\n",
        "           template=\"gridon\")"
      ],
      "metadata": {
        "id": "f9W3I11t6YD1"
      },
      "execution_count": null,
      "outputs": []
    },
    {
      "cell_type": "markdown",
      "source": [
        " ## **División del conjunto de datos</font>**"
      ],
      "metadata": {
        "id": "jBYjhfbwm2xB"
      }
    },
    {
      "cell_type": "code",
      "source": [
        "X = datos.drop(columns=['sales'])\n",
        "y = datos['sales']"
      ],
      "metadata": {
        "id": "l4d6Xiq8TTnj"
      },
      "execution_count": null,
      "outputs": []
    },
    {
      "cell_type": "markdown",
      "source": [
        " ## **Preprocesamiento de variables categóricas con `sklearn`</font>**"
      ],
      "metadata": {
        "id": "J3OJvnFH-wYf"
      }
    },
    {
      "cell_type": "code",
      "source": [
        "from sklearn.compose import make_column_selector as selector\n",
        "from sklearn.preprocessing import OneHotEncoder\n",
        "from sklearn.compose import ColumnTransformer"
      ],
      "metadata": {
        "id": "hhFFMNrP-_Ut"
      },
      "execution_count": null,
      "outputs": []
    },
    {
      "cell_type": "markdown",
      "source": [
        "<p align=\"justify\">\n",
        "Primero se identifica el nombre de las columnas categóricas y numéricas. El resultado es una <code>lista</code>."
      ],
      "metadata": {
        "id": "PcSiMAup_Cwv"
      }
    },
    {
      "cell_type": "code",
      "source": [
        "categorical_columns_selector = selector(dtype_include=object)\n",
        "categorical_columns = categorical_columns_selector(X)"
      ],
      "metadata": {
        "id": "BKCmyJp2_DR5"
      },
      "execution_count": null,
      "outputs": []
    },
    {
      "cell_type": "code",
      "source": [
        "categorical_columns"
      ],
      "metadata": {
        "id": "9lLS0uot8kQP"
      },
      "execution_count": null,
      "outputs": []
    },
    {
      "cell_type": "code",
      "source": [
        "#categorical_columns = X.select_dtypes(include=['object', 'category']).columns.tolist()"
      ],
      "metadata": {
        "id": "6cmtXIr6nfKE"
      },
      "execution_count": null,
      "outputs": []
    },
    {
      "cell_type": "code",
      "source": [
        "numerical_columns_selector = selector(dtype_include=[int,float])\n",
        "numerical_columns = numerical_columns_selector(X)"
      ],
      "metadata": {
        "id": "h7P1FVYla3KU"
      },
      "execution_count": null,
      "outputs": []
    },
    {
      "cell_type": "code",
      "source": [
        "numerical_columns"
      ],
      "metadata": {
        "id": "h4771MvL8uNU"
      },
      "execution_count": null,
      "outputs": []
    },
    {
      "cell_type": "markdown",
      "source": [
        "<p align=\"justify\">\n",
        "Luego se aplica <b>one-hot-encoding</b> solo a las columnas categóricas. El parámetro <code>remainder</code> en <code>ColumnTransformer</code> determina cómo se deben manejar las columnas que no son seleccionadas o transformadas por los transformadores.\n",
        "<br>\n",
        "<br>\n",
        "De forma predeterminada, el parámetro <code>remainder</code> está configurado en <code>drop</code>, lo que significa que cualquier columna restante que no esté especificada en los transformadores se eliminará.\n",
        "<br>\n",
        "<br>\n",
        "Alternativamente, puedes establecer <code>remainder='passthrough'</code> para incluir las columnas restantes en la salida sin aplicar ninguna transformación. Esto es útil cuando se necesitan mantener ciertas columnas sin cambios, como en este caso las columnas numéricas."
      ],
      "metadata": {
        "id": "R1Eru1_AABCi"
      }
    },
    {
      "cell_type": "code",
      "source": [
        "preprocessor = ColumnTransformer(\n",
        "                    [('one-hot-encoding',\n",
        "                      OneHotEncoder(handle_unknown='ignore',\n",
        "                                    sparse_output=False),\n",
        "                      categorical_columns)],\n",
        "                    remainder='passthrough')"
      ],
      "metadata": {
        "id": "spc-scUh_7gU"
      },
      "execution_count": null,
      "outputs": []
    },
    {
      "cell_type": "markdown",
      "source": [
        "<p align=\"justify\">\n",
        "Una vez que se ha definido el objeto <code>ColumnTransformer</code>, con el método <code>fit_transform()</code> se aplican las tranformaciones al conjunto de datos <code>X</code>."
      ],
      "metadata": {
        "id": "Ba4sf-pMXTlk"
      }
    },
    {
      "cell_type": "code",
      "source": [
        "X_encoded = preprocessor.fit_transform(X)\n",
        "X_encoded"
      ],
      "metadata": {
        "id": "wYvHo7yRAnyK"
      },
      "execution_count": null,
      "outputs": []
    },
    {
      "cell_type": "markdown",
      "source": [
        "<p align=\"justify\">\n",
        "El resultado devuelto es un <code>numpy array</code>, por lo que se pierden los nombres de las columnas. Suele ser interesante poder inspeccionar cómo queda el conjunto de datos tras el preprocesado en formato <code>DataFrame</code>.\n",
        "<br>\n",
        "<br>\n",
        "Por defecto, <code>OneHotEncoder</code> ordena las nuevas columnas de izquierda a derecha por orden alfabético."
      ],
      "metadata": {
        "id": "DKVJyF9TXI-k"
      }
    },
    {
      "cell_type": "markdown",
      "source": [
        "Convertir el `numpy array` en `dataframe` y añadir el nombre de las columnas."
      ],
      "metadata": {
        "id": "Tn6IvqGOYT18"
      }
    },
    {
      "cell_type": "code",
      "source": [
        "columns_endoded = preprocessor.named_transformers_['one-hot-encoding'].get_feature_names_out(categorical_columns)\n",
        "columns_endoded"
      ],
      "metadata": {
        "id": "U7qA9uv8i-tn"
      },
      "execution_count": null,
      "outputs": []
    },
    {
      "cell_type": "code",
      "source": [
        "labels = np.concatenate([columns_endoded,numerical_columns])\n",
        "X_transformed = pd.DataFrame(X_encoded, columns=labels)\n",
        "X_transformed.head()"
      ],
      "metadata": {
        "id": "JWOLEWj4h2B4"
      },
      "execution_count": null,
      "outputs": []
    },
    {
      "cell_type": "code",
      "source": [
        "X_transformed.info()"
      ],
      "metadata": {
        "id": "7GsjwRV9-3q4"
      },
      "execution_count": null,
      "outputs": []
    },
    {
      "cell_type": "markdown",
      "source": [
        " ## **División del conjunto de entrenamiento y prueba</font>**"
      ],
      "metadata": {
        "id": "CVBiAsNW9Up2"
      }
    },
    {
      "cell_type": "code",
      "source": [
        "from sklearn.model_selection import train_test_split\n",
        "X_train, X_test, y_train, y_test = train_test_split(X_transformed,\n",
        "                                                    y,\n",
        "                                                    random_state=123)"
      ],
      "metadata": {
        "id": "YqHzrQ3gdndY"
      },
      "execution_count": null,
      "outputs": []
    },
    {
      "cell_type": "code",
      "source": [
        "X_train.shape"
      ],
      "metadata": {
        "id": "1PBVM27Ym__m"
      },
      "execution_count": null,
      "outputs": []
    },
    {
      "cell_type": "code",
      "source": [
        "X_test.shape"
      ],
      "metadata": {
        "id": "WDbbtwNLnHO0"
      },
      "execution_count": null,
      "outputs": []
    },
    {
      "cell_type": "code",
      "source": [
        "y_train.shape"
      ],
      "metadata": {
        "id": "EoHbqI3-hkEK"
      },
      "execution_count": null,
      "outputs": []
    },
    {
      "cell_type": "code",
      "source": [
        "y_test.shape"
      ],
      "metadata": {
        "id": "pNhRSTZPhnHI"
      },
      "execution_count": null,
      "outputs": []
    },
    {
      "cell_type": "markdown",
      "source": [
        "\n",
        "\n",
        " ## **Ajuste y evaluación del modelo con `sklearn`</font>**"
      ],
      "metadata": {
        "id": "sTy4nAk2F-8r"
      }
    },
    {
      "cell_type": "markdown",
      "source": [
        "Documentación [Árbol de Decisión para Clasificación](https://scikit-learn.org/stable/modules/generated/sklearn.tree.DecisionTreeClassifier.html)"
      ],
      "metadata": {
        "id": "A6E38vI9-Vcr"
      }
    },
    {
      "cell_type": "code",
      "source": [
        "from sklearn.tree import DecisionTreeClassifier"
      ],
      "metadata": {
        "id": "7DWboyGIIZEW"
      },
      "execution_count": null,
      "outputs": []
    },
    {
      "cell_type": "markdown",
      "source": [
        "<p align=\"justify\">\n",
        "En este ejemplo, se crea un de árbol de decisión para clasificación mediante la clase <code>DecisionTreeClassifier()</code> de <code>scikit_learn</code>. Luego, se ajusta el modelo a los datos de entrenamiento utilizando el método <code>fit()</code>, donde <code>X_train</code> representa las variabres predictoras de entrenamiento e </code>y_train</code> es la variable objetivo de entrenamiento.\n",
        "<br>\n",
        "<br>\n",
        "Los hiperparámetros utilizados son:\n",
        "\n",
        "- `max_depth = 2`: establece la profundidad máxima del árbol de decisión. Limita el número de niveles y nodos en el árbol. En este caso, el árbol tendrá una profundidad máxima de 2. Se estableció en este valor solo a fines pedagógicos para mostrar el funcionamiento del árbol.\n",
        "\n",
        "- `criterion = 'entropy'`: especifica el criterio utilizado para medir la calidad de una división durante la construcción del árbol de decisión. El criterio de `'entropy'` utiliza el concepto de entropía de la información para medir la impureza de los nodos. Por defecto, el valor de este hiper-parámetro es `'gini'`.\n",
        "\n",
        "- `random_state = 123`: establece la semilla aleatoria para garantizar la reproducibilidad. Al establecer el estado aleatorio en un valor específico (123 en este caso), el generador de números aleatorios producirá la misma secuencia de números aleatorios cada vez que ejecutes el código. Esto asegura que tus resultados sean consistentes y reproducibles."
      ],
      "metadata": {
        "id": "ZYNTUKeuNeS2"
      }
    },
    {
      "cell_type": "code",
      "source": [
        "model_dt = DecisionTreeClassifier(max_depth = 2,\n",
        "                                  criterion = 'entropy',\n",
        "                                  random_state = 123\n",
        "                                  )"
      ],
      "metadata": {
        "id": "bab2y1BiCD8E"
      },
      "execution_count": null,
      "outputs": []
    },
    {
      "cell_type": "code",
      "source": [
        "model_dt.fit(X_train, y_train)"
      ],
      "metadata": {
        "id": "PPMNbfr_CD4X"
      },
      "execution_count": null,
      "outputs": []
    },
    {
      "cell_type": "markdown",
      "source": [
        "<p align=\"justify\">\n",
        "Una vez ajustado el modelo, se pueden realizar predicciones en los datos de prueba utilizando el método <code>predict()</code> y evaluarlo con <code>score()</code>."
      ],
      "metadata": {
        "id": "D673-aOf73u5"
      }
    },
    {
      "cell_type": "code",
      "source": [
        "prediction = model_dt.predict(X_test)\n",
        "prediction"
      ],
      "metadata": {
        "id": "aR_uwusOCD0W"
      },
      "execution_count": null,
      "outputs": []
    },
    {
      "cell_type": "code",
      "source": [
        "y_test.values"
      ],
      "metadata": {
        "id": "GfhO-Q6ZCDkr"
      },
      "execution_count": null,
      "outputs": []
    },
    {
      "cell_type": "code",
      "source": [
        "tabla = pd.DataFrame({\"Prediccion\":prediction,\n",
        "                      \"Real\":y_test\n",
        "                      })\n",
        "tabla.head(15)"
      ],
      "metadata": {
        "id": "_BaEvdHppLrq"
      },
      "execution_count": null,
      "outputs": []
    },
    {
      "cell_type": "code",
      "source": [
        "model_dt.score(X_test, y_test)"
      ],
      "metadata": {
        "id": "qxe8NsKZLHbA"
      },
      "execution_count": null,
      "outputs": []
    },
    {
      "cell_type": "markdown",
      "source": [
        "<p align=\"justify\">\n",
        "La <b>exactitud</b> o <b>accuracy</b> del modelo es 0.72. Es decir, el modelo es capaz de predecir correctamente un 72 % de las observaciones del conjunto de prueba."
      ],
      "metadata": {
        "id": "Y4H83oqtETLl"
      }
    },
    {
      "cell_type": "code",
      "source": [
        "from sklearn.model_selection import cross_validate\n",
        "cv_results = cross_validate(model_dt, X_transformed, y, cv = 5)\n",
        "cv_results"
      ],
      "metadata": {
        "id": "tF-RTuoMNxFQ"
      },
      "execution_count": null,
      "outputs": []
    },
    {
      "cell_type": "code",
      "source": [
        "scores = cv_results[\"test_score\"]\n",
        "print(\"\")\n",
        "print(f\"La accuracy mediante cross-validation es: {scores.mean():.3f} ± {scores.std():.3f}\")"
      ],
      "metadata": {
        "id": "9RYZ6F7NAi3u"
      },
      "execution_count": null,
      "outputs": []
    },
    {
      "cell_type": "markdown",
      "source": [
        " ## **Visualización del árbol de decisión</font>**"
      ],
      "metadata": {
        "id": "c9HFR-PCAjnM"
      }
    },
    {
      "cell_type": "markdown",
      "source": [
        "Documentación [Plot Tree](https://scikit-learn.org/stable/modules/generated/sklearn.tree.plot_tree.html)"
      ],
      "metadata": {
        "id": "CHvR-FzDRkl6"
      }
    },
    {
      "cell_type": "code",
      "source": [
        "from sklearn.tree import plot_tree\n",
        "import matplotlib.pyplot as plt\n",
        "\n",
        "fig, ax = plt.subplots(figsize=(12, 5))\n",
        "print(f\"Profundidad del árbol: {model_dt.get_depth()}\")\n",
        "print(f\"Número de nodos terminales: {model_dt.get_n_leaves()}\")\n",
        "\n",
        "plot = plot_tree(\n",
        "            decision_tree = model_dt,\n",
        "            feature_names = labels.tolist(),\n",
        "            class_names   = ['altas','bajas'],\n",
        "            filled        = True,\n",
        "            impurity      = True,\n",
        "            fontsize      = 10,\n",
        "            precision     = 2,\n",
        "            ax            = ax\n",
        "       )"
      ],
      "metadata": {
        "id": "NjJRu_R-NxCP"
      },
      "execution_count": null,
      "outputs": []
    },
    {
      "cell_type": "markdown",
      "source": [
        "<p align=\"justify\">\n",
        "El árbol de decisión generado se divide en función de las variables <code>ShelveLoc_Good</code> y <code>Price</code>. La raíz del árbol es la primera división que se realiza. A partir de ahí, cada nodo interno representa una pregunta o condición sobre las características y las ramas salientes representan las diferentes respuestas a esa pregunta.\n",
        "<br>\n",
        "<br>\n",
        "El árbol de decisión se puede interpretar de la siguiente manera:\n",
        "\n",
        "- En la raíz del árbol, se realiza la primera pregunta: \"¿Es `ShelveLoc_Good` menor o igual a 0.5?\"\n",
        " - Si es verdadero, se sigue por la rama izquierda, y el árbol realiza una segunda pregunta: \"¿Es `Price` menor o igual a 74.5?\"\n",
        "    - Si es verdadero, se llega a una hoja del árbol donde se predice que las ventas son `altas`.\n",
        "    - Si es falso, se llega a otra hoja del árbol donde se predice que las ventas son `bajas`.\n",
        " - Si es falso, se sigue por la rama derecha, y el árbol realizan una segunda pregunta: \"¿Es `Price` menor o igual a 109.5?\"\n",
        "    - Si es verdadero, se llega a una hoja del árbol donde se predice que las ventas son `altas`.\n",
        "    - Si es falso, se llega a otra hoja del árbol donde se predice que las ventas son `altas`.\n",
        "\n",
        "<br>\n",
        "<p align=\"justify\">\n",
        "Las hojas del árbol (nodos terminales) representan las predicciones finales para cada rama. En este caso, las hojas están etiquetadas como <code>altas</code> o <code>bajas</code>, según la clasificación prevista para cada combinación de variables.\n",
        "<br>\n",
        "<br>\n",
        "Teniendo en cuenta el siguiente ejemplo se realiza la clasifición de ventas, suponga la sucursal en la posición 0 del conjunto de prueba que tiene las siguientes características:"
      ],
      "metadata": {
        "id": "FYwFIslsg3z4"
      }
    },
    {
      "cell_type": "code",
      "source": [
        "X_test.iloc[0,:]"
      ],
      "metadata": {
        "id": "XRzq6Yp1cygJ"
      },
      "execution_count": null,
      "outputs": []
    },
    {
      "cell_type": "markdown",
      "source": [
        "<p align=\"justify\">\n",
        "Para esta sucursal <code>ShelveLoc_Good</code> es 1 (esto significa que el producto tiene una buena ubicación en la tienda), por lo tanto, mayor a 0.5, por lo tanto se sigue a la rama derecha y acá el precio es 129, el cual es mayor al umbral de 109.5, se sigue por la rama derecha y por lo tanto se predice que la venta en esa sucursal son <code>altas</code>."
      ],
      "metadata": {
        "id": "bP1tQBhtpfsT"
      }
    },
    {
      "cell_type": "code",
      "source": [
        "model_dt.predict(X_test)[0]"
      ],
      "metadata": {
        "id": "UNQfk93RtQgm"
      },
      "execution_count": null,
      "outputs": []
    },
    {
      "cell_type": "code",
      "source": [
        "y_test[0]"
      ],
      "metadata": {
        "id": "9r75qJmkdXHa"
      },
      "execution_count": null,
      "outputs": []
    },
    {
      "cell_type": "markdown",
      "source": [
        "<p align=\"justify\">\n",
        "Los hiperparámetros <code>min_sample_leaf</code> y <code>min_samples_split</code> del algoritmo <code>DecisionTreeClassifier</code> permiten controlar la complejidad del árbol de decisión y evitar divisiones que puedan conducir a nodos con muy pocas muestras, lo que podría resultar en un <b>sobreajuste</b>.\n",
        "<br>\n",
        "<br>\n",
        "Al aumentar los valores de estos hiperparámetros, se obtendrá un árbol de decisión más generalizado y menos complejo.\n",
        "\n",
        "\n",
        "- `min_samples_leaf` especifica el número mínimo de muestras requeridas para que un nodo sea considerado una hoja (nodo terminal) en el árbol de decisión. Si el número de muestras en un nodo es menor que `min_samples_leaf`, no se realizará una división en ese nodo y se convertirá en una hoja. Este parámetro ayuda a evitar divisiones que produzcan hojas con muy pocas muestras, lo que puede ser útil para evitar sobreajuste. Garantiza un número mínimo de muestras en una hoja terminal.\n",
        "\n",
        "- `min_samples_split` especifica el número mínimo de muestras requeridas para que se realice una división en un nodo. Si el número de muestras en un nodo es menor que `min_samples_split`, no se realizará ninguna división en ese nodo, y se convertirá en una hoja. Este parámetro controla la cantidad mínima de muestras necesarias para que un nodo sea elegible para realizar una división.\n",
        "\n",
        "<br>\n",
        "<p align=\"justify\">\n",
        "Comprobemos el efecto de incorporar el parámetro <code>min_samples_leaf</code>:"
      ],
      "metadata": {
        "id": "-baFN1AkCSlt"
      }
    },
    {
      "cell_type": "code",
      "source": [
        "model_dt_2 = DecisionTreeClassifier(min_samples_leaf = 10,\n",
        "                                    random_state = 123\n",
        "                                    ).fit(X_train, y_train)"
      ],
      "metadata": {
        "id": "qjXnsTNPNw_D"
      },
      "execution_count": null,
      "outputs": []
    },
    {
      "cell_type": "code",
      "source": [
        "cv_results = cross_validate(model_dt_2, X_transformed, y)\n",
        "cv_results"
      ],
      "metadata": {
        "id": "b9t51_GQNw3i"
      },
      "execution_count": null,
      "outputs": []
    },
    {
      "cell_type": "code",
      "source": [
        "scores = cv_results[\"test_score\"]\n",
        "print(\"\")\n",
        "print(f\"La accuracy mediante cross-validation es: {scores.mean():.3f} ± {scores.std():.3f}\")"
      ],
      "metadata": {
        "id": "fkJe2Mx9IV85"
      },
      "execution_count": null,
      "outputs": []
    },
    {
      "cell_type": "code",
      "source": [
        "from sklearn.tree import plot_tree\n",
        "import matplotlib.pyplot as plt\n",
        "\n",
        "fig, ax = plt.subplots(figsize=(18, 12))\n",
        "print(f\"Profundidad del árbol: {model_dt_2.get_depth()}\")\n",
        "print(f\"Número de nodos terminales: {model_dt_2.get_n_leaves()}\")\n",
        "\n",
        "plot = plot_tree(\n",
        "            decision_tree = model_dt_2,\n",
        "            feature_names = labels.tolist(),\n",
        "            class_names   = y,\n",
        "            filled        = True,\n",
        "            impurity      = True,\n",
        "            fontsize      = 10,\n",
        "            precision     = 2,\n",
        "            ax            = ax\n",
        "       )"
      ],
      "metadata": {
        "id": "a-t4SaSVI1jc"
      },
      "execution_count": null,
      "outputs": []
    },
    {
      "cell_type": "markdown",
      "source": [
        " # **Conclusiones</font>**"
      ],
      "metadata": {
        "id": "Oy7l5SBgVcpX"
      }
    },
    {
      "cell_type": "markdown",
      "source": [
        "<p align=\"justify\">\n",
        "A través de este ejercicio nosotros:\n",
        "<br><br>\n",
        "Utilizamos la biblioteca <code>scikit_learn</code> para entrenar un modelo de árbol de decisión en el contexto de un problema de clasificación.\n",
        "<br>\n",
        "Realizamos un análisis del comportamiento del árbol de decisión a través de la generación de un gráfico denominado <code>plot_tree</code>.\n"
      ],
      "metadata": {
        "id": "8NNtt05FVcpY"
      }
    }
  ]
}