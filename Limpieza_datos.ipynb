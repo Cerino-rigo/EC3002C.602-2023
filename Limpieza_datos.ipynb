{
  "nbformat": 4,
  "nbformat_minor": 0,
  "metadata": {
    "colab": {
      "provenance": [],
      "include_colab_link": true
    },
    "kernelspec": {
      "name": "python3",
      "display_name": "Python 3"
    },
    "language_info": {
      "name": "python"
    }
  },
  "cells": [
    {
      "cell_type": "markdown",
      "metadata": {
        "id": "view-in-github",
        "colab_type": "text"
      },
      "source": [
        "<a href=\"https://colab.research.google.com/github/Cerino-rigo/EC3002C.602-2023/blob/main/Limpieza_datos.ipynb\" target=\"_parent\"><img src=\"https://colab.research.google.com/assets/colab-badge.svg\" alt=\"Open In Colab\"/></a>"
      ]
    },
    {
      "cell_type": "markdown",
      "metadata": {
        "id": "Sz8ogFjl7a8b"
      },
      "source": [
        "# LIMPIEZA DE DATOS CON PYTHON Y PANDAS"
      ]
    },
    {
      "cell_type": "markdown",
      "metadata": {
        "id": "jYJxCZNZDfYe"
      },
      "source": [
        "# 1. Problema del negocio\n",
        "\n",
        "Una entidad bancaria contrata a una empresa de marketing encargada de contactar telefónicamente a posibles clientes para determinar si están interesados o no en adquirir un certificado de depósito a término con el banco.\n",
        "\n",
        "¿Qué perfil tienen los clientes con mayor potencial de conversión?"
      ]
    },
    {
      "cell_type": "markdown",
      "metadata": {
        "id": "4WOEkmPt7aHf"
      },
      "source": [
        "#2. Base de datos\n",
        "\n",
        "La información recolectada por la empresa de mercadeo se encuentra en un archivo CSV (`dataset_banco.csv`) con 45215 filas y 17 columnas.\n",
        "\n",
        "Cada registro contiene 16 características (las primeras 16 columnas) y una categoría (\"yes\" o \"no\" dependiendo de si la persona está o no interesada en adquirir el producto). Las columnas son:\n",
        "\n",
        "1. \"age\":  edad (numérica)\n",
        "2. \"job\": tipo de trabajo (categórica: \"admin.\", \"unknown\", \"unemployed\", \"management\", \"housemaid\", \"entrepreneur\", \"student\", \"blue-collar\",\"self-employed\", \"retired\", \"technician\", \"services\")\n",
        "3. \"marital\": estado civil (categórica: \"married\", \"divorced\", \"single\")\n",
        "4. \"education\": nivel educativo (categórica: \"unknown\", \"secondary\", \"primary\", \"tertiary\")\n",
        "5. \"default\": si dejó de pagar sus obligaciones (categórica: \"yes\", \"no\")\n",
        "6. \"balance\": saldo promedio anual en euros (numérica)\n",
        "7. \"housing\": ¿tiene o no crédito hipotecario? (categórica: \"yes\", \"no\")\n",
        "8. \"loan\": ¿tiene créditos de consumo? (categórica: \"yes\", \"no\")\n",
        "9. \"contact\": medio a través del cual fue contactado (categórica: \"unknown\", \"telephone\", \"cellular\")\n",
        "10. \"day\": último día del mes en el que fue contactada (numérica)\n",
        "11. \"month\": último mes en el que fue contactada (categórica: \"jan\", \"feb\", \"mar\", ..., \"nov\", \"dec\")\n",
        "12. \"duration\": duración (en segundos) del último contacto (numérica)\n",
        "13. \"campaign\": número total de veces que fue contactada durante la campaña (numérica)\n",
        "14. \"pdays\": número de días transcurridos después de haber sido contactado antes de la campaña actual (numérica. -1 indica que no fue contactado previamente)\n",
        "15. \"previous\": número de veces que ha sido contactada antes de esta campaña (numérica)\n",
        "16. \"poutcome\": resultado de la campaña de marketing anterior (categórica: \"unknown\", \"other\", \"failure\", \"success\")\n",
        "17. \"y\": categoría ¿el cliente se suscribió a un depósito a término? (categórica: \"yes\", \"no\")"
      ]
    },
    {
      "cell_type": "code",
      "source": [
        "from google.colab import drive\n",
        "drive.mount('/content/drive')"
      ],
      "metadata": {
        "id": "cfrMDZYqytMR"
      },
      "execution_count": null,
      "outputs": []
    },
    {
      "cell_type": "markdown",
      "metadata": {
        "id": "7wXHT_PLEFkr"
      },
      "source": [
        "#3. Visualizar dataset"
      ]
    },
    {
      "cell_type": "code",
      "metadata": {
        "id": "SQ_-SdsX7enM"
      },
      "source": [
        "# Importar librerías\n",
        "import pandas as pd\n",
        "import matplotlib.pyplot as plt\n",
        "import seaborn as sns"
      ],
      "execution_count": null,
      "outputs": []
    },
    {
      "cell_type": "code",
      "metadata": {
        "id": "yECOD3UAEV-a"
      },
      "source": [
        "# Lectura\n",
        "\n",
        "\n",
        "data = pd.read_csv(\"/content/drive/MyDrive/Machine Learning/dataset_banco.csv\")"
      ],
      "execution_count": null,
      "outputs": []
    },
    {
      "cell_type": "code",
      "source": [
        "print(data.shape)\n",
        "data.head()"
      ],
      "metadata": {
        "id": "DAurjZa07b5Z"
      },
      "execution_count": null,
      "outputs": []
    },
    {
      "cell_type": "code",
      "metadata": {
        "id": "gATCZsQPE3VQ"
      },
      "source": [
        "# Identificar tipo de variables\n",
        "data.info()"
      ],
      "execution_count": null,
      "outputs": []
    },
    {
      "cell_type": "markdown",
      "source": [
        "#4. Limpieza\n",
        "\n",
        "Para el proceso de limpieza se tomarán en cuenta las situaciones más comunes:\n",
        "\n",
        "1. Datos faltantes en algunas celdas\n",
        "2. Columnas irrelevantes (que no responden al problema que queremos resolver)\n",
        "3. Registros (filas) repetidos\n",
        "4. Valores extremos (*outliers*) en el caso de las variables numéricas. Se deben analizar en detalle pues no necesariamente la solución es eliminarlos\n",
        "5. Errores tipográficos en el caso de las variables categóricas\n",
        "\n",
        "Al final de este proceso de limpieza deberíamos tener un set de datos **íntegro**, listo para la fase de Análisis Exploratorio."
      ],
      "metadata": {
        "id": "CGUfF1eZaeoj"
      }
    },
    {
      "cell_type": "markdown",
      "source": [
        "## 4.1 Datos faltantes\n",
        "\n",
        "Con la información visualizada anteriormente, se aprecio que los datos no están completos, debido a que no todas las columnas tienen la misma cantidad de registros (45,215).\n",
        "\n",
        "Particularmente: \"job\", \"marital\", \"education\", \"balance\", \"duration\" y \"pdays\".\n",
        "\n",
        "Por ser tan pocos los datos  faltantes optaremos por eliminar las filas correspondientes:"
      ],
      "metadata": {
        "id": "zxyeciKcaClS"
      }
    },
    {
      "cell_type": "code",
      "metadata": {
        "id": "_KCHs7bvE-UR"
      },
      "source": [
        "data.dropna(inplace=True) # Función para eliminar las filas completas con datos faltantes\n",
        "data.info()"
      ],
      "execution_count": null,
      "outputs": []
    },
    {
      "cell_type": "markdown",
      "source": [
        "##4.2 Columnas irrelevantes\n",
        "\n",
        "Una columna irrelevante puede ser:\n",
        "\n",
        "- **Una columna que no contiene información relevante para el objetivo del problema que queremos resolver**. Por ejemplo en este caso podría ser una columna que no guarde relación con el posible perfil del cliente (música favorita, hobbies, comida favorita, etc.)\n",
        "- **Una columna categórica pero con un sólo nivel**. Por ejemplo si en la columna \"job\" solo existiera el nivel \"unknown\".\n",
        "- **Una columna numérica pero con un sólo valor**. Por ejemplo si en la columna \"edad\" todos tuvieran la misma edad.\n",
        "- **Columnas con información redundante**. Por ejemplo si además de las columnas \"month\" y \"day\" tuviésemos la columna \"month-day\", resultado de combinar las dos anteriores.\n",
        "\n",
        "En este caso todas las columnas pueden resultar relevantes, pero debemos verificar que no haya columnas categóricas con un sólo nivel, o columnas numéricas con un sólo valor:"
      ],
      "metadata": {
        "id": "4a2bJcMewV33"
      }
    },
    {
      "cell_type": "code",
      "metadata": {
        "id": "DpR6nqaWFfSf"
      },
      "source": [
        "# Conteo de los niveles en las diferentes columnas categóricas\n",
        "cols_cat = ['job', 'marital', 'education', 'default', 'housing',\n",
        "       'loan', 'contact', 'month', 'poutcome', 'y']\n",
        "\n",
        "for col in cols_cat:\n",
        "  print(f'Columna {col}: {data[col].nunique()} subniveles')"
      ],
      "execution_count": null,
      "outputs": []
    },
    {
      "cell_type": "markdown",
      "source": [
        "**DataFrame.nunique(axis=0, dropna=True)**\n",
        "\n",
        "Cuenta el número de elementos distintos en el eje especificado.\n",
        "\n",
        "Devuelve la serie con el número de elementos distintos. Puede ignorar valores NaN.\n"
      ],
      "metadata": {
        "id": "Km180aj84IYS"
      }
    },
    {
      "cell_type": "markdown",
      "source": [
        "Todas las columnas categóricas tienen más de 1 subnivel. Entonces no se eliminará ninguna.\n",
        "\n",
        "Ahora se analizarán las columnas numéricas:"
      ],
      "metadata": {
        "id": "pCw6dYMryt0O"
      }
    },
    {
      "cell_type": "code",
      "metadata": {
        "id": "KNPnGhhyG1Sk"
      },
      "source": [
        "data.describe()"
      ],
      "execution_count": null,
      "outputs": []
    },
    {
      "cell_type": "markdown",
      "source": [
        "Preservaremos todas las columnas numéricas."
      ],
      "metadata": {
        "id": "o_ulm42Hy8nm"
      }
    },
    {
      "cell_type": "markdown",
      "source": [
        "##4.3 Filas repetidas"
      ],
      "metadata": {
        "id": "WyPaJNZFzISZ"
      }
    },
    {
      "cell_type": "code",
      "metadata": {
        "id": "4U99PpRBG1-H"
      },
      "source": [
        "print(f'Tamaño del set antes de eliminar las filas repetidas: {data.shape}')\n",
        "data.drop_duplicates(inplace=True) #Función para buscar filas que aparezcan dos o más veces\n",
        "print(f'Tamaño del set después de eliminar las filas repetidas: {data.shape}')"
      ],
      "execution_count": null,
      "outputs": []
    },
    {
      "cell_type": "markdown",
      "source": [
        "##4.4 *Outliers* en las variables numéricas\n",
        "\n",
        "Analizar de forma visual los *outliers* porque dependiendo de la variable numérica en cuestión, estos pueden contener información importante. Por lo que no siempre es recomendable eliminarlos.\n",
        "\n",
        "Crear gráficas tipo \"boxplot\" de las columnas numéricas."
      ],
      "metadata": {
        "id": "vAdN5qxyzpRV"
      }
    },
    {
      "cell_type": "markdown",
      "source": [
        "**El Diagrama de Caja y bigotes** (box and whisker plot en inglés ) es un tipo de gráfico que muestra un resumen de una gran cantidad de datos en cinco medidas descriptivas, además de intuir su morfología y simetría.\n",
        "\n",
        "Este tipo de gráficos nos permite identificar valores atípicos y comparar distribuciones. Además de conocer de una forma cómoda y rápida como el 50% de los valores centrales se distribuyen."
      ],
      "metadata": {
        "id": "nvmW7nEE8Bkz"
      }
    },
    {
      "cell_type": "code",
      "source": [
        "# Generar gráficas individuales pues las variables numéricas\n",
        "# están en rangos diferentes\n",
        "cols_num = ['age', 'balance', 'day', 'duration', 'campaign',\n",
        "            'pdays', 'previous']\n",
        "\n",
        "fig, ax = plt.subplots(nrows=7, ncols=1, figsize=(8,30))\n",
        "fig.subplots_adjust(hspace=0.5)\n",
        "\n",
        "for i, col in enumerate(cols_num):\n",
        "    sns.boxplot(x=col, data=data, ax=ax[i])\n",
        "    ax[i].set_title(col)"
      ],
      "metadata": {
        "id": "QhiHlPFV0I02"
      },
      "execution_count": null,
      "outputs": []
    },
    {
      "cell_type": "markdown",
      "source": [
        "**Análisis visual:**\n",
        "- \"age\": hay sujetos con edades mucho mayores a 100 años\n",
        "- \"duration\": hay valores negativos\n",
        "- \"previous\": hay un valor extremadamente alto (cercano a 300)"
      ],
      "metadata": {
        "id": "PXp7xuqB2qs6"
      }
    },
    {
      "cell_type": "code",
      "source": [
        "# Aplicar filtro para eliminar filas con \"age\" > 100\n",
        "print(f'Tamaño del set antes de eliminar registros de edad: {data.shape}')\n",
        "data = data[data['age']<=100]\n",
        "print(f'Tamaño del set después de eliminar registros de edad: {data.shape}')"
      ],
      "metadata": {
        "id": "EdX52H3x2qEp"
      },
      "execution_count": null,
      "outputs": []
    },
    {
      "cell_type": "code",
      "source": [
        "# Aplicar filtro para eliminar filas con \"duration\" < 0\n",
        "print(f'Tamaño del set antes de eliminar registros de duración: {data.shape}')\n",
        "data = data[data['duration']>0]\n",
        "print(f'Tamaño del set después de eliminar registros de duración: {data.shape}')"
      ],
      "metadata": {
        "id": "mc5imiIA3uSI"
      },
      "execution_count": null,
      "outputs": []
    },
    {
      "cell_type": "code",
      "source": [
        "# Aplicar filtro para eliminar filas con \"previous\" > 100\n",
        "print(f'Tamaño del set antes de eliminar registros de previous: {data.shape}')\n",
        "data = data[data['previous']<=100]\n",
        "print(f'Tamaño del set después de eliminar registros de previous: {data.shape}')"
      ],
      "metadata": {
        "id": "mtTOcbEn1b5X"
      },
      "execution_count": null,
      "outputs": []
    },
    {
      "cell_type": "markdown",
      "source": [
        "##4.5 Errores tipográficos en variables categóricas\n",
        "\n",
        "En una variable categórica pueden aparecer sub-niveles a consecuencia de la mala captura de las respuestas. Por ejemplo \"unknown\" y \"UNK\" que, una persona entiende el mismo significado, pero para nuestro programa serían diferentes.\n",
        "\n",
        "Se deben unificar estos sub-niveles"
      ],
      "metadata": {
        "id": "Ys8L2CGb4vWq"
      }
    },
    {
      "cell_type": "code",
      "source": [
        "# Graficar los subniveles de cada variable categórica\n",
        "cols_cat = ['job', 'marital', 'education', 'default', 'housing',\n",
        "       'loan', 'contact', 'month', 'poutcome', 'y']\n",
        "\n",
        "fig, ax = plt.subplots(nrows=10, ncols=1, figsize=(10,30))\n",
        "fig.subplots_adjust(hspace=1)\n",
        "\n",
        "for i, col in enumerate(cols_cat):\n",
        "  sns.countplot(x=col, data=data, ax=ax[i])\n",
        "  ax[i].set_title(col)\n",
        "  ax[i].set_xticklabels(ax[i].get_xticklabels(),rotation=30)"
      ],
      "metadata": {
        "id": "Euf8w52C5K39"
      },
      "execution_count": null,
      "outputs": []
    },
    {
      "cell_type": "markdown",
      "source": [
        "Inicialmente se observa que hay sub-niveles con el mismo nombre pero escritos en minúscula, en mayúscula o con la primera letra en mayúscula.\n",
        "\n",
        "Unifiquemos estos sub-niveles inicialmente:"
      ],
      "metadata": {
        "id": "D1gBENL_5hW7"
      }
    },
    {
      "cell_type": "code",
      "source": [
        "for column in data.columns:\n",
        "    # Representar en minúsculas sólo si la columna es categórica\n",
        "    if column in cols_cat:\n",
        "        data[column] = data[column].str.lower()\n",
        "\n",
        "# Generar las gráficas nuevamente\n",
        "fig, ax = plt.subplots(nrows=10, ncols=1, figsize=(10,30))\n",
        "fig.subplots_adjust(hspace=1)\n",
        "\n",
        "for i, col in enumerate(cols_cat):\n",
        "  sns.countplot(x=col, data=data, ax=ax[i])\n",
        "  ax[i].set_title(col)\n",
        "  ax[i].set_xticklabels(ax[i].get_xticklabels(),rotation=30)"
      ],
      "metadata": {
        "id": "PPYlABJz6f2u"
      },
      "execution_count": null,
      "outputs": []
    },
    {
      "cell_type": "code",
      "source": [
        "# job: unificar admin. y administrative\n",
        "print(data['job'].unique()) # Analizar cuántos valores distintos hay\n",
        "data['job'] = data['job'].str.replace('admin.','administrative', regex=False)\n",
        "print(data['job'].unique())"
      ],
      "metadata": {
        "id": "uSESKHcD67bx"
      },
      "execution_count": null,
      "outputs": []
    },
    {
      "cell_type": "markdown",
      "source": [
        "**pandas.unique(valores)**\n",
        "\n",
        "Devuelve valores únicos basados en una tabla hash.\n",
        "\n",
        "Los valores únicos se devuelven por orden de aparición. Esto NO ordena."
      ],
      "metadata": {
        "id": "HiLzBE2ACZ7o"
      }
    },
    {
      "cell_type": "code",
      "source": [
        "# marital: unificar div. y divorced\n",
        "print(data['marital'].unique()) # Analizar cuántos valores distintos hay\n",
        "data['marital'] = data['marital'].str.replace('div.','divorced', regex=False)\n",
        "print(data['marital'].unique())"
      ],
      "metadata": {
        "id": "Pyc3HuMZ8S3j"
      },
      "execution_count": null,
      "outputs": []
    },
    {
      "cell_type": "code",
      "source": [
        "# education: unificar sec. y secondary, unk y unknown\n",
        "print(data['education'].unique()) # Analizar cuántos valores distintos hay\n",
        "data['education'] = data['education'].str.replace('sec.','secondary', regex=False)\n",
        "data.loc[data['education']=='unk','education'] = 'unknown'\n",
        "print(data['education'].unique())"
      ],
      "metadata": {
        "id": "KyoDsJeI-BMV"
      },
      "execution_count": null,
      "outputs": []
    },
    {
      "cell_type": "code",
      "source": [
        "# contact: unificar telephone y phone\n",
        "print(data['contact'].unique()) # Analizar cuántos valores distintos hay\n",
        "data.loc[data['contact']=='phone','contact'] = 'telephone'\n",
        "data.loc[data['contact']=='mobile','contact'] = 'cellular'\n",
        "print(data['contact'].unique())"
      ],
      "metadata": {
        "id": "hxzP331D_sMN"
      },
      "execution_count": null,
      "outputs": []
    },
    {
      "cell_type": "code",
      "source": [
        "# poutcome: unificar unk y unknown\n",
        "print(data['poutcome'].unique()) # Analizar cuántos valores distintos hay\n",
        "data.loc[data['poutcome']=='unk','poutcome']='unknown'\n",
        "print(data['poutcome'].unique())"
      ],
      "metadata": {
        "id": "24zBZHfi_-VT"
      },
      "execution_count": null,
      "outputs": []
    },
    {
      "cell_type": "code",
      "source": [
        "data.shape"
      ],
      "metadata": {
        "id": "6rUd2kpuAJqt"
      },
      "execution_count": null,
      "outputs": []
    },
    {
      "cell_type": "code",
      "source": [
        "# Generar las gráficas nuevamente\n",
        "fig, ax = plt.subplots(nrows=10, ncols=1, figsize=(10,30))\n",
        "fig.subplots_adjust(hspace=1)\n",
        "\n",
        "for i, col in enumerate(cols_cat):\n",
        "  sns.countplot(x=col, data=data, ax=ax[i])\n",
        "  ax[i].set_title(col)\n",
        "  ax[i].set_xticklabels(ax[i].get_xticklabels(),rotation=30)"
      ],
      "metadata": {
        "id": "ZQEV-NHJEoFW"
      },
      "execution_count": null,
      "outputs": []
    },
    {
      "cell_type": "markdown",
      "source": [
        "\n",
        "Originalmente tenía 45,215 registros y 17 columnas. El dataset resultante tiene 45,189 filas (26 menos) y 17 columnas.\n",
        "\n",
        "El set de datos ya está listo para el Análisis Exploratorio."
      ],
      "metadata": {
        "id": "wgOD_fSUAIOt"
      }
    },
    {
      "cell_type": "code",
      "source": [
        "ruta = \"/content/drive/MyDrive/Machine Learning/dataset_banco_clean.csv\"\n",
        "data.to_csv(ruta, index=False)"
      ],
      "metadata": {
        "id": "s90V96SlBOL0"
      },
      "execution_count": null,
      "outputs": []
    }
  ]
}