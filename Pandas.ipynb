{
  "nbformat": 4,
  "nbformat_minor": 0,
  "metadata": {
    "colab": {
      "provenance": [],
      "mount_file_id": "1l5bEevQwsC7d2P1dlwdGc8bJpVbdts33",
      "authorship_tag": "ABX9TyN0+y7X6e6nhleIKczS2yev",
      "include_colab_link": true
    },
    "kernelspec": {
      "name": "python3",
      "display_name": "Python 3"
    },
    "language_info": {
      "name": "python"
    }
  },
  "cells": [
    {
      "cell_type": "markdown",
      "metadata": {
        "id": "view-in-github",
        "colab_type": "text"
      },
      "source": [
        "<a href=\"https://colab.research.google.com/github/Cerino-rigo/EC3002C.602-2023/blob/main/Pandas.ipynb\" target=\"_parent\"><img src=\"https://colab.research.google.com/assets/colab-badge.svg\" alt=\"Open In Colab\"/></a>"
      ]
    },
    {
      "cell_type": "markdown",
      "source": [
        "#Pandas"
      ],
      "metadata": {
        "id": "duOvoTvTbCx9"
      }
    },
    {
      "cell_type": "markdown",
      "source": [
        "Guía de usuario:\n",
        "https://pandas.pydata.org/docs/user_guide/index.html"
      ],
      "metadata": {
        "id": "qojGLpikf8t6"
      }
    },
    {
      "cell_type": "code",
      "execution_count": null,
      "metadata": {
        "id": "a1bs7adqawb2"
      },
      "outputs": [],
      "source": [
        "import pandas as pd\n",
        "import numpy as np\n",
        "Z = np.arange(9).reshape(3, 3)\n",
        "print(Z)"
      ]
    },
    {
      "cell_type": "code",
      "source": [
        "materias = ['Ciencia de datos', 'Humanidades', 'Matemáticas', 'Química', 'Físicia', 'Historia', 'Economía', 'Programación', 'Inglés', 'Robótica']"
      ],
      "metadata": {
        "id": "wm5FhoFrcFC4"
      },
      "execution_count": null,
      "outputs": []
    },
    {
      "cell_type": "markdown",
      "source": [
        "## Series"
      ],
      "metadata": {
        "id": "2eMBUdbGgVO0"
      }
    },
    {
      "cell_type": "markdown",
      "source": [
        "Una serie es una matriz etiquetada unidimensional capaz de contener cualquier tipo de datos (cadenas de caracteres, enteros, decimales,etc.) pero al definir la serie, se requiere que el tipo de datos sea el mismo."
      ],
      "metadata": {
        "id": "ZxOYilPrgX1I"
      }
    },
    {
      "cell_type": "markdown",
      "source": [
        "**Generar una serie que contenga la lista anterior**"
      ],
      "metadata": {
        "id": "OMc-cPcffGm3"
      }
    },
    {
      "cell_type": "code",
      "source": [
        "materias_s = pd.Series(materias)\n",
        "materias_s"
      ],
      "metadata": {
        "id": "rAIQ0vIge0iE"
      },
      "execution_count": null,
      "outputs": []
    },
    {
      "cell_type": "markdown",
      "source": [
        "**Inspeccionar los primeros 5 elementos con el método .head()**"
      ],
      "metadata": {
        "id": "qy_8I37qizt4"
      }
    },
    {
      "cell_type": "code",
      "source": [
        "materias_s.head()"
      ],
      "metadata": {
        "id": "QyB-Uvxii5jo"
      },
      "execution_count": null,
      "outputs": []
    },
    {
      "cell_type": "code",
      "source": [
        "materias_s.head(4)"
      ],
      "metadata": {
        "id": "B8eV0rMvjPK1"
      },
      "execution_count": null,
      "outputs": []
    },
    {
      "cell_type": "markdown",
      "source": [
        "**Ordenar los valores de la serie**"
      ],
      "metadata": {
        "id": "TngLG92ijfxZ"
      }
    },
    {
      "cell_type": "code",
      "source": [
        "materias_s.sort_values()"
      ],
      "metadata": {
        "id": "Sizpk3XqjW7v"
      },
      "execution_count": null,
      "outputs": []
    },
    {
      "cell_type": "markdown",
      "source": [
        "## Estadística con series"
      ],
      "metadata": {
        "id": "f_6VjvQSlEwC"
      }
    },
    {
      "cell_type": "code",
      "source": [
        "calificaciones = pd.Series([8.8, 9.2, 7.5, 10, 6.9, 9.4, 7.7,  9.9, 6, 8.3])"
      ],
      "metadata": {
        "id": "1_iZBlS2jsqT"
      },
      "execution_count": null,
      "outputs": []
    },
    {
      "cell_type": "markdown",
      "source": [
        "**Obtener el valor máximo de la serie \"calificaciones\"**\n",
        "\n"
      ],
      "metadata": {
        "id": "Te7nyN2pT8jo"
      }
    },
    {
      "cell_type": "code",
      "source": [
        "calificaciones.max()"
      ],
      "metadata": {
        "id": "MIsn4bARkjhC"
      },
      "execution_count": null,
      "outputs": []
    },
    {
      "cell_type": "markdown",
      "source": [
        "**Obtener el valor mínimo de la serie \"calificaciones\"**"
      ],
      "metadata": {
        "id": "oXdZzBvyUIA5"
      }
    },
    {
      "cell_type": "code",
      "source": [
        "calificaciones.min()"
      ],
      "metadata": {
        "id": "bihxHDUskf4a"
      },
      "execution_count": null,
      "outputs": []
    },
    {
      "cell_type": "markdown",
      "source": [
        "**Obtener el valor promedio de la serie \"calificaciones\"**"
      ],
      "metadata": {
        "id": "3sxAxCN_UPf7"
      }
    },
    {
      "cell_type": "code",
      "source": [
        "calificaciones.mean()"
      ],
      "metadata": {
        "id": "hwrnXlvkku7R"
      },
      "execution_count": null,
      "outputs": []
    },
    {
      "cell_type": "code",
      "source": [
        "calificaciones.sum()"
      ],
      "metadata": {
        "id": "rmnIeLfpUuRV"
      },
      "execution_count": null,
      "outputs": []
    },
    {
      "cell_type": "markdown",
      "source": [
        "**Estos métodos no alteran la serie original**"
      ],
      "metadata": {
        "id": "5fsGxkosU8DJ"
      }
    },
    {
      "cell_type": "code",
      "source": [
        "calificaciones"
      ],
      "metadata": {
        "id": "EwSK6MtwU5Z0"
      },
      "execution_count": null,
      "outputs": []
    },
    {
      "cell_type": "markdown",
      "source": [
        "**Descripción general de los valores en la serie \"calificaciones\"**"
      ],
      "metadata": {
        "id": "Pgs2pobmUURk"
      }
    },
    {
      "cell_type": "code",
      "source": [
        "calificaciones.describe()"
      ],
      "metadata": {
        "id": "C4kRAw9_k69R"
      },
      "execution_count": null,
      "outputs": []
    },
    {
      "cell_type": "code",
      "source": [
        "calificaciones.count()"
      ],
      "metadata": {
        "id": "GOyrUe81lMnJ"
      },
      "execution_count": null,
      "outputs": []
    },
    {
      "cell_type": "markdown",
      "source": [
        "**Obtener las calificaciones mayores a 8.3**"
      ],
      "metadata": {
        "id": "pqCQNLihlYe5"
      }
    },
    {
      "cell_type": "code",
      "source": [
        "calificaciones > 8.3"
      ],
      "metadata": {
        "id": "Ls8TXTkOlWV9"
      },
      "execution_count": null,
      "outputs": []
    },
    {
      "cell_type": "code",
      "source": [
        "calificaciones[calificaciones > 8.3]"
      ],
      "metadata": {
        "id": "VHAziKvZlshy"
      },
      "execution_count": null,
      "outputs": []
    },
    {
      "cell_type": "code",
      "source": [
        "calificaciones"
      ],
      "metadata": {
        "id": "GlVEQTRgl2L_"
      },
      "execution_count": null,
      "outputs": []
    },
    {
      "cell_type": "markdown",
      "source": [
        "## Dataframes\n"
      ],
      "metadata": {
        "id": "hvczdg0cmbf6"
      }
    },
    {
      "cell_type": "code",
      "source": [
        "datos = {'Nombre':['Andrea', 'Roxana', 'David', 'Jorge', 'Adrian'],\n",
        "        'Edad':[27, 34, 42, 29, 37],\n",
        "        'Altura':[1.67, 1.75, 1.65, 1.72, 1.69],\n",
        "        'Peso':[66, 68, 75, 78, 70],\n",
        "        'Dirección':['Los fuertes', '5 de mayo', 'Palmas', 'Margaritas', 'San Manuel'],\n",
        "        'Título':['Ing', 'MC', 'Lic', 'Phd', 'Ing']}"
      ],
      "metadata": {
        "id": "Y2gWm1TbmeCq"
      },
      "execution_count": null,
      "outputs": []
    },
    {
      "cell_type": "markdown",
      "source": [
        "**Crear un DataFrame que contenga los datos presentados**"
      ],
      "metadata": {
        "id": "fwp52tCKoWfO"
      }
    },
    {
      "cell_type": "code",
      "source": [
        "profesores = pd.DataFrame(datos)"
      ],
      "metadata": {
        "id": "KJ8z8ZAQnv37"
      },
      "execution_count": null,
      "outputs": []
    },
    {
      "cell_type": "code",
      "source": [
        "profesores"
      ],
      "metadata": {
        "id": "Y5_x8QXAn_BQ"
      },
      "execution_count": null,
      "outputs": []
    },
    {
      "cell_type": "markdown",
      "source": [
        "**Obtener una descripción general de las columnas numéricas del DataFrame**"
      ],
      "metadata": {
        "id": "OqX1jgBNptUJ"
      }
    },
    {
      "cell_type": "code",
      "source": [
        "profesores.describe()"
      ],
      "metadata": {
        "id": "QyNXMrbbo951"
      },
      "execution_count": null,
      "outputs": []
    },
    {
      "cell_type": "markdown",
      "source": [
        "**Obtener los datos de los profesores mayores a 30 años**"
      ],
      "metadata": {
        "id": "0VN_hDGnqtoI"
      }
    },
    {
      "cell_type": "code",
      "source": [
        "profesores.Edad"
      ],
      "metadata": {
        "id": "HSiNqQLCqc73"
      },
      "execution_count": null,
      "outputs": []
    },
    {
      "cell_type": "code",
      "source": [
        "profesores.Edad > 30"
      ],
      "metadata": {
        "id": "lrQ6NZZIqkt3"
      },
      "execution_count": null,
      "outputs": []
    },
    {
      "cell_type": "code",
      "source": [
        "profesores[profesores.Edad >30]"
      ],
      "metadata": {
        "id": "Kg3ZU0uLq8KP"
      },
      "execution_count": null,
      "outputs": []
    },
    {
      "cell_type": "code",
      "source": [
        "profesores"
      ],
      "metadata": {
        "id": "3U0aH5RCrKpM"
      },
      "execution_count": null,
      "outputs": []
    },
    {
      "cell_type": "markdown",
      "source": [
        "## Importar datos de un archivo externo en un DataFrame llamado \"concentracion\""
      ],
      "metadata": {
        "id": "fR6L1VftYZGB"
      }
    },
    {
      "cell_type": "code",
      "source": [
        "concentracion = pd.read_excel('/content/drive/MyDrive/Machine Learning/concentracion.xlsx', index_col=\"Id\")"
      ],
      "metadata": {
        "id": "ssc00SSSrTp3"
      },
      "execution_count": null,
      "outputs": []
    },
    {
      "cell_type": "code",
      "source": [
        "concentracion"
      ],
      "metadata": {
        "id": "xf05uPfcZOLc"
      },
      "execution_count": null,
      "outputs": []
    },
    {
      "cell_type": "code",
      "source": [
        "concentracion.head()"
      ],
      "metadata": {
        "id": "-jRyrwZWapNH"
      },
      "execution_count": null,
      "outputs": []
    },
    {
      "cell_type": "markdown",
      "source": [
        "**Obtener los datos de los amigos con una edad menor a 21 años**\n",
        "\n",
        "\n"
      ],
      "metadata": {
        "id": "D5fvgWLEZi14"
      }
    },
    {
      "cell_type": "code",
      "source": [
        "concentracion.Edad < 21"
      ],
      "metadata": {
        "id": "1Juz9uTAZiVs"
      },
      "execution_count": null,
      "outputs": []
    },
    {
      "cell_type": "code",
      "source": [
        "concentracion[concentracion.Edad < 21]"
      ],
      "metadata": {
        "id": "oAkgdhY1ZOKT"
      },
      "execution_count": null,
      "outputs": []
    },
    {
      "cell_type": "code",
      "source": [
        "concentracion"
      ],
      "metadata": {
        "id": "gbZG3g5eaD8e"
      },
      "execution_count": null,
      "outputs": []
    },
    {
      "cell_type": "code",
      "source": [
        "concentracion_menores_21 = concentracion[concentracion.Edad < 21]"
      ],
      "metadata": {
        "id": "BqeF87I6aICH"
      },
      "execution_count": null,
      "outputs": []
    },
    {
      "cell_type": "code",
      "source": [
        "concentracion_menores_21"
      ],
      "metadata": {
        "id": "-7pgeJn8aZsF"
      },
      "execution_count": null,
      "outputs": []
    },
    {
      "cell_type": "markdown",
      "source": [
        "**Importar datos en el archivo \"universidad.xlsx\" en un DataFrame llamado \"universidad\"**"
      ],
      "metadata": {
        "id": "sWakVECmavbR"
      }
    },
    {
      "cell_type": "code",
      "source": [
        "universidad = pd.read_excel('/content/drive/MyDrive/Machine Learning/universidad.xlsx')"
      ],
      "metadata": {
        "id": "q4TlwxxUavsm"
      },
      "execution_count": null,
      "outputs": []
    },
    {
      "cell_type": "code",
      "source": [
        "universidad.head()"
      ],
      "metadata": {
        "id": "utOJp8xJbExM"
      },
      "execution_count": null,
      "outputs": []
    },
    {
      "cell_type": "code",
      "source": [
        "concentracion.head()"
      ],
      "metadata": {
        "id": "JCfTsPRIbywV"
      },
      "execution_count": null,
      "outputs": []
    },
    {
      "cell_type": "markdown",
      "source": [
        "Utilizar la función \"merge\" para unir las dos tablas anteriores con base en:\n",
        "\n",
        "\n",
        "*   La columna \"Id\" en la tabla \"concentracion\"\n",
        "*   La columna \"Id Persona\" en la tabla \"universidad\"\n",
        "\n",
        "Llamar al DataFrame resultante \"alumnos\"\n",
        "\n"
      ],
      "metadata": {
        "id": "2kUfW99CcC93"
      }
    },
    {
      "cell_type": "code",
      "source": [
        "alumnos = concentracion.merge(universidad, left_on = \"Id\", right_on =\"Id Persona\")"
      ],
      "metadata": {
        "id": "jt_jQhX8ceJg"
      },
      "execution_count": null,
      "outputs": []
    },
    {
      "cell_type": "code",
      "source": [
        "alumnos.head()"
      ],
      "metadata": {
        "id": "euC04sVTd03m"
      },
      "execution_count": null,
      "outputs": []
    },
    {
      "cell_type": "markdown",
      "source": [
        "**Cambiar las letras a mayúsculas en la columna \"Num Control\" del nuevo DataFrame \"alumnos\"**"
      ],
      "metadata": {
        "id": "3vSLLuyXfBsR"
      }
    },
    {
      "cell_type": "code",
      "source": [
        "alumnos.loc[:,\"Num Control\"]"
      ],
      "metadata": {
        "id": "ta7HlvjsfLyP"
      },
      "execution_count": null,
      "outputs": []
    },
    {
      "cell_type": "code",
      "source": [
        "alumnos.loc[:,\"Num Control\"].str.upper()"
      ],
      "metadata": {
        "id": "znLQatbegIlf"
      },
      "execution_count": null,
      "outputs": []
    },
    {
      "cell_type": "markdown",
      "source": [
        "El atributo Pandas DataFrame.loc accede a un grupo de filas y columnas por etiqueta(s)"
      ],
      "metadata": {
        "id": "62Y7KHHDfy-J"
      }
    },
    {
      "cell_type": "markdown",
      "source": [
        "Método str.upper() cambia caracteres a mayúsculas\n",
        "\n",
        "\n",
        "\n"
      ],
      "metadata": {
        "id": "7UOIlwlff5L5"
      }
    },
    {
      "cell_type": "markdown",
      "source": [
        "**Cambiar la primera letra de cada palabra a mayúsculas en la columna \"Carrera\" del nuevo DataFrame \"alumnos\"**"
      ],
      "metadata": {
        "id": "Pshv-NbOguVd"
      }
    },
    {
      "cell_type": "code",
      "source": [
        "alumnos.loc[:,\"Carrera\"].str.title()"
      ],
      "metadata": {
        "id": "XMDrJhU6hWm3"
      },
      "execution_count": null,
      "outputs": []
    },
    {
      "cell_type": "markdown",
      "source": [
        "Método str.title() cambia los primeros caracteres de cada palabra a mayúsculas"
      ],
      "metadata": {
        "id": "-GdcrWWghixs"
      }
    },
    {
      "cell_type": "code",
      "source": [
        "alumnos.loc[:,\"Carrera\"] = alumnos.loc[:,\"Carrera\"].str.title()"
      ],
      "metadata": {
        "id": "c9RS-7hpgSTu"
      },
      "execution_count": null,
      "outputs": []
    },
    {
      "cell_type": "code",
      "source": [
        "alumnos.head()"
      ],
      "metadata": {
        "id": "DqgLg3qvgSSf"
      },
      "execution_count": null,
      "outputs": []
    },
    {
      "cell_type": "markdown",
      "source": [
        "**Agregar una columa llamada \"Año\" que contenga el año en que el estudiante se inscibió a la carrera del DataFrame \"alumnos\"**"
      ],
      "metadata": {
        "id": "fLznMNDjoIoy"
      }
    },
    {
      "cell_type": "code",
      "source": [
        "alumnos[\"Año\"] = alumnos.Inscripción.dt.year"
      ],
      "metadata": {
        "id": "Lum51Y18g1Wp"
      },
      "execution_count": null,
      "outputs": []
    },
    {
      "cell_type": "code",
      "source": [
        "alumnos.head()"
      ],
      "metadata": {
        "id": "OqJJup_EoeU_"
      },
      "execution_count": null,
      "outputs": []
    },
    {
      "cell_type": "markdown",
      "source": [
        "Series.dt.year\n",
        "Devuelve el año de la estructura \"datetime\"."
      ],
      "metadata": {
        "id": "U4n2hHYQov5S"
      }
    },
    {
      "cell_type": "code",
      "source": [
        "alumnos[\"Año/Mes\"] = alumnos.Inscripción.dt.strftime(\"%Y/%m\")"
      ],
      "metadata": {
        "id": "9gCwx3LdpAJ5"
      },
      "execution_count": null,
      "outputs": []
    },
    {
      "cell_type": "markdown",
      "source": [
        "**Series.dt.strftime(args)**\n",
        "\n",
        "Convertir a índice utilizando el formato de fecha especificado.\n",
        "\n",
        "Cadena de formato de fecha (por ejemplo, \"%Y-%m-%d\")."
      ],
      "metadata": {
        "id": "iE62U3igqWkm"
      }
    },
    {
      "cell_type": "code",
      "source": [
        "alumnos.head()"
      ],
      "metadata": {
        "id": "eimrZeykpV88"
      },
      "execution_count": null,
      "outputs": []
    },
    {
      "cell_type": "markdown",
      "source": [
        "**Crear un DataFrame llamado \"licenciados\" que contenga los datos de los estudiantes inscritos a una licenciatura**"
      ],
      "metadata": {
        "id": "3UmHxnBVppUN"
      }
    },
    {
      "cell_type": "code",
      "source": [
        "alumnos.loc[:,\"Carrera\"].str.contains(\"Lic\")"
      ],
      "metadata": {
        "id": "777rk8pFpyN2"
      },
      "execution_count": null,
      "outputs": []
    },
    {
      "cell_type": "markdown",
      "source": [
        "**Series.str.contains(pat)**\n",
        "\n",
        "Comprueba si un patrón \"***pat***\" o regex está contenido en una cadena de una Serie o Índice."
      ],
      "metadata": {
        "id": "KYlXCyYMq1CG"
      }
    },
    {
      "cell_type": "code",
      "source": [
        "licenciados = alumnos.loc[:,\"Carrera\"].str.contains(\"Lic\")"
      ],
      "metadata": {
        "id": "ACsHx7-brEUj"
      },
      "execution_count": null,
      "outputs": []
    },
    {
      "cell_type": "code",
      "source": [
        "licenciados.head()"
      ],
      "metadata": {
        "id": "YbcQrdoAra6V"
      },
      "execution_count": null,
      "outputs": []
    },
    {
      "cell_type": "code",
      "source": [
        "licenciados = alumnos[alumnos.loc[:,\"Carrera\"].str.contains(\"Lic\")]"
      ],
      "metadata": {
        "id": "8FCesnLcrq87"
      },
      "execution_count": null,
      "outputs": []
    },
    {
      "cell_type": "code",
      "source": [
        "licenciados.head()"
      ],
      "metadata": {
        "id": "azM607QPr_3X"
      },
      "execution_count": null,
      "outputs": []
    },
    {
      "cell_type": "code",
      "source": [
        "licenciados"
      ],
      "metadata": {
        "id": "YUsvHAa6sCmI"
      },
      "execution_count": null,
      "outputs": []
    },
    {
      "cell_type": "markdown",
      "source": [
        "##Analizar DataFrames"
      ],
      "metadata": {
        "id": "Og6w3CXFsQd4"
      }
    },
    {
      "cell_type": "markdown",
      "source": [
        "Contar el número de licenciados inscritos pr cada año utilizando \"groupby\""
      ],
      "metadata": {
        "id": "qOoG1FfxsXEu"
      }
    },
    {
      "cell_type": "code",
      "source": [
        "lic_por_año = licenciados.groupby(by=\"Año\").size()"
      ],
      "metadata": {
        "id": "rhAaU-dNsMxP"
      },
      "execution_count": null,
      "outputs": []
    },
    {
      "cell_type": "code",
      "source": [
        "lic_por_año"
      ],
      "metadata": {
        "id": "DwkOcxd0sxbC"
      },
      "execution_count": null,
      "outputs": []
    },
    {
      "cell_type": "markdown",
      "source": [
        "**DataFrame.groupby(by=mapping, function, label, pd.Grouper or list of such)**\n",
        "\n",
        "Agrupar DataFrame utilizando un mapeador o por una serie de columnas.\n",
        "\n",
        "Una operación groupby implica alguna combinación de dividir el objeto, aplicar una función y combinar los resultados. Puede utilizarse para agrupar grandes cantidades de datos y calcular operaciones sobre estos grupos."
      ],
      "metadata": {
        "id": "nTNSFThdtBmr"
      }
    },
    {
      "cell_type": "code",
      "source": [
        "import matplotlib.pyplot as plt"
      ],
      "metadata": {
        "id": "bNgP0BjXsxZj"
      },
      "execution_count": null,
      "outputs": []
    },
    {
      "cell_type": "code",
      "source": [
        "lic_por_año.plot(kind=\"bar\")\n",
        "plt.title(\"Inscripción de Licenciados por Año\")\n",
        "plt.show()"
      ],
      "metadata": {
        "id": "iHKGUX_8tzMt"
      },
      "execution_count": null,
      "outputs": []
    },
    {
      "cell_type": "markdown",
      "source": [
        "**Contar la cantidad de alumnos inscritos en cada año, separado por licenciatura, utilizando \"pivot_table\"**"
      ],
      "metadata": {
        "id": "ANd4Mmm2tBku"
      }
    },
    {
      "cell_type": "code",
      "source": [
        "ingresos = licenciados.pivot_table(index=\"Año\", columns=\"Carrera\", values=\"Edad\", aggfunc=\"count\",fill_value=0)"
      ],
      "metadata": {
        "id": "UfeZa658ulav"
      },
      "execution_count": null,
      "outputs": []
    },
    {
      "cell_type": "code",
      "source": [
        "ingresos"
      ],
      "metadata": {
        "id": "r-YgZAv-u69i"
      },
      "execution_count": null,
      "outputs": []
    },
    {
      "cell_type": "markdown",
      "source": [
        "**pandas.pivot_table(data, values=None, index=None, columns=None, aggfunc='mean', fill_value=None)**\n",
        "\n",
        "Crear una tabla pivotante estilo hoja de cálculo como un DataFrame.\n",
        "\n",
        "Los niveles de la tabla pivotante se almacenarán en objetos MultiIndex (índices jerárquicos) sobre el índice y las columnas del DataFrame resultante."
      ],
      "metadata": {
        "id": "B8Ncny83wqjj"
      }
    },
    {
      "cell_type": "code",
      "source": [
        "ingresos.plot()\n",
        "plt.title(\"Ingreso en cada carrera por Año\")\n",
        "plt.show()"
      ],
      "metadata": {
        "id": "xhNBAHSiwbQA"
      },
      "execution_count": null,
      "outputs": []
    }
  ]
}