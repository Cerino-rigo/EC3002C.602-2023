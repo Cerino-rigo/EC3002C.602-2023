{
  "nbformat": 4,
  "nbformat_minor": 0,
  "metadata": {
    "colab": {
      "provenance": [],
      "authorship_tag": "ABX9TyM2X1cru/oiXn/rMQzXFmCG",
      "include_colab_link": true
    },
    "kernelspec": {
      "name": "python3",
      "display_name": "Python 3"
    },
    "language_info": {
      "name": "python"
    }
  },
  "cells": [
    {
      "cell_type": "markdown",
      "metadata": {
        "id": "view-in-github",
        "colab_type": "text"
      },
      "source": [
        "<a href=\"https://colab.research.google.com/github/Cerino-rigo/EC3002C.602-2023/blob/main/Actividad.ipynb\" target=\"_parent\"><img src=\"https://colab.research.google.com/assets/colab-badge.svg\" alt=\"Open In Colab\"/></a>"
      ]
    },
    {
      "cell_type": "markdown",
      "source": [
        "**Importar librerías necesarias para el correcto funcionamiento**"
      ],
      "metadata": {
        "id": "j5lalnlyGna0"
      }
    },
    {
      "cell_type": "code",
      "source": [],
      "metadata": {
        "id": "mO8r38zFGtUd"
      },
      "execution_count": null,
      "outputs": []
    },
    {
      "cell_type": "markdown",
      "source": [
        "**Crea una matriz de 10x10 con valores aleatorios y encuentra los valores mínimo y máximo**"
      ],
      "metadata": {
        "id": "qXjaMs2NJcAf"
      }
    },
    {
      "cell_type": "code",
      "execution_count": null,
      "metadata": {
        "id": "U-lXlqvsJYxq"
      },
      "outputs": [],
      "source": []
    },
    {
      "cell_type": "markdown",
      "source": [
        "**Crea un vector aleatorio de tamaño 30 y encuentra el valor medio**"
      ],
      "metadata": {
        "id": "pOSc4_xYJksU"
      }
    },
    {
      "cell_type": "code",
      "source": [],
      "metadata": {
        "id": "f0uM3LmPD5q4"
      },
      "execution_count": null,
      "outputs": []
    },
    {
      "cell_type": "markdown",
      "source": [
        "**Crea un DataFrame a partir de la siguiente lista:**"
      ],
      "metadata": {
        "id": "B56DNhPAJuLf"
      }
    },
    {
      "cell_type": "code",
      "source": [
        "datos = {\n",
        "    'nombre': ['María', 'Luis', 'Carmen', 'Antonio', 'Sara', 'Pedro', 'Laura', 'Javier', 'Ana', 'Carlos', 'Elena', 'Pablo', 'Isabel', 'Juan', 'Natalia', 'Roberto', 'Lucía', 'Miguel', 'Alicia', 'Francisco'],\n",
        "    'edad': [18, 22, 20, 21, 25, 30, 28, 23, 29, 26, 24, 27, 32, 31, 35, 33, 40, 38, 36, 39],\n",
        "    'grado': ['Economía', 'Medicina', 'Arquitectura', 'Economía', 'Psicología', 'Ingeniería', 'Derecho', 'Marketing', 'Biología', 'Informática', 'Periodismo', 'Física', 'Historia', 'Matemáticas', 'Ciencias Políticas', 'Economía', 'Psicología', 'Ingeniería', 'Derecho', 'Marketing'],\n",
        "    'correo': ['maria@gmail.com', 'luis@yahoo.es', 'carmen@gmail.com', 'antonio@gmail.com', 'sara@gmail.com', 'pedro@yahoo.es', 'laura@gmail.com', 'javier@gmail.com', 'ana@yahoo.es', 'carlos@gmail.com', 'elena@gmail.com', 'pablo@yahoo.es', 'isabel@gmail.com', 'juan@gmail.com', 'natalia@yahoo.es', 'roberto@gmail.com', 'lucia@gmail.com', 'miguel@yahoo.es', 'alicia@gmail.com', 'francisco@gmail.com'],\n",
        "    'ciudad': ['Madrid', 'Barcelona', 'Sevilla', 'Valencia', 'Zaragoza', 'Málaga', 'Murcia', 'Palma de Mallorca', 'Las Palmas', 'Zaragoza', 'Vigo', 'Gijón', 'Valladolid', 'La Coruña', 'Granada', 'Alicante', 'Bilbao', 'Córdoba', 'Vitoria', 'Santa Cruz de Tenerife'],\n",
        "    'telefono': ['123-456-789', '987-654-321', '555-123-456', '789-321-654', '111-222-333', '444-555-666', '777-888-999', '222-333-444', '555-666-777', '888-999-000', '111-222-333', '444-555-666', '777-888-999', '222-333-444', '555-666-777', '888-999-000', '111-222-333', '444-555-666', '777-888-999', '222-333-444'],\n",
        "    'genero': ['Femenino', 'Masculino', 'Femenino', 'Masculino', 'Femenino', 'Masculino', 'Femenino', 'Masculino', 'Femenino', 'Masculino', 'Femenino', 'Masculino', 'Femenino', 'Masculino', 'Femenino', 'Masculino', 'Femenino', 'Masculino', 'Femenino', 'Masculino'],\n",
        "    'hobbies': ['Leer', 'Deporte', 'Arte', 'Viajar', 'Música', 'Cine', 'Cocina', 'Fotografía', 'Juegos de mesa', 'Senderismo', 'Teatro', 'Bailar', 'Ajedrez', 'Natación', 'Bicicleta', 'Videojuegos', 'Pintura', 'Escalada', 'Jardinería', 'Viajar'],\n",
        "    'nacionalidad': ['Española', 'Mexicana', 'Española', 'Colombiana', 'Chilena', 'Peruana', 'Argentina', 'Uruguaya', 'Venezolana', 'Ecuatoriana', 'Boliviana', 'Paraguaya', 'Costarricense', 'Guatemalteca', 'Panameña', 'Cubana', 'Dominicana', 'Puertorriqueña', 'Nicaragüense', 'Hondureña'],\n",
        "    'idioma_principal': ['Español', 'Español', 'Español', 'Español', 'Español', 'Español', 'Español', 'Español', 'Español', 'Español', 'Español', 'Español', 'Español', 'Español', 'Español', 'Español', 'Español', 'Español', 'Español', 'Español'],\n",
        "    'puntuacion_examen': [85, 92, 78, 88, 95, 86, 90, 78, 88, 92, 80, 94, 87, 89, 96, 82, 91, 93, 84, 97],\n",
        "    'estado_civil': ['Soltera', 'Soltero', 'Soltera', 'Soltero', 'Casada', 'Soltero', 'Casada', 'Soltero', 'Casada', 'Divorciado', 'Soltera', 'Viudo', 'Casada', 'Soltero', 'Casada', 'Soltero', 'Casada', 'Soltero', 'Casada', 'Soltero'],\n",
        "    'nivel_educativo': ['Licenciatura', 'Licenciatura', 'Licenciatura', 'Licenciatura', 'Maestría', 'Licenciatura', 'Doctorado', 'Maestría', 'Licenciatura', 'Maestría', 'Licenciatura', 'Doctorado', 'Licenciatura', 'Maestría', 'Licenciatura', 'Doctorado', 'Licenciatura', 'Maestría', 'Doctorado', 'Licenciatura'],\n",
        "    'altura': [180.43, 184.36, 176.32, 159.25, 170.33, 170.99, 168.37, 150.99, 158.74, 166.55, 170.07, 161.40, 162.12, 175.75, 150.72, 177.87, 187.94, 161.97, 182.92, 183.31],\n",
        "    'peso': [63.33, 82.26, 56.45, 58.06, 90.22, 84.68, 67.17, 76.52, 97.55, 50.76, 92.71, 98.16, 50.91 , 54.43, 96.54, 62.49, 98.84, 91.99, 75.02, 78.58]\n",
        "}\n",
        "\n"
      ],
      "metadata": {
        "id": "rHlxo0axJ7iB"
      },
      "execution_count": null,
      "outputs": []
    },
    {
      "cell_type": "markdown",
      "source": [
        "**Despliega las 7 primeras filas del DataFrame**\n"
      ],
      "metadata": {
        "id": "gqb7AtKOLTqp"
      }
    },
    {
      "cell_type": "code",
      "source": [],
      "metadata": {
        "id": "qiGzILbFRKss"
      },
      "execution_count": null,
      "outputs": []
    },
    {
      "cell_type": "markdown",
      "source": [
        "**Obtener la información del DataFrame**"
      ],
      "metadata": {
        "id": "HKqIyXI7REAQ"
      }
    },
    {
      "cell_type": "code",
      "source": [],
      "metadata": {
        "id": "GzjOnc0MRccC"
      },
      "execution_count": null,
      "outputs": []
    },
    {
      "cell_type": "markdown",
      "source": [
        "**Desplegar un análisis estadístico descriptivo de las variables numéricas**"
      ],
      "metadata": {
        "id": "pVe6dTj6RSB4"
      }
    },
    {
      "cell_type": "code",
      "source": [],
      "metadata": {
        "id": "VUWlMLPPRTlT"
      },
      "execution_count": null,
      "outputs": []
    },
    {
      "cell_type": "markdown",
      "source": [
        "**Obtener las dimensiones del dataframe, y con esta función hacer un ```print(f\"\")```indicando la cantidad de filas y columnas...**\n",
        "\n",
        "Pista: usar ```shape```"
      ],
      "metadata": {
        "id": "W6SuyjSbRdA9"
      }
    },
    {
      "cell_type": "code",
      "source": [
        "print(f\"El dataframe tiene {insertar el dato} filas y {insertar el dato} columnas...\")"
      ],
      "metadata": {
        "id": "_ZyCrmbWRKXx"
      },
      "execution_count": null,
      "outputs": []
    },
    {
      "cell_type": "markdown",
      "source": [
        "**Realiza un filtro que separe a los alumnos con calificación mayor a 90 y guarda los datos en un nuevo DataFrame llamado \"Prom_Altos\"**"
      ],
      "metadata": {
        "id": "fpoXj6caEA5W"
      }
    },
    {
      "cell_type": "code",
      "source": [],
      "metadata": {
        "id": "Lu1ajuyITTcI"
      },
      "execution_count": null,
      "outputs": []
    },
    {
      "cell_type": "markdown",
      "source": [
        "**Sobre el DataFrame original, crea una nueva columna, que divida la puntuación del examen sobre 10, el nombre de esta columna será ```Calificación```, y despliega el DataFrame**"
      ],
      "metadata": {
        "id": "xsbEyogOM60c"
      }
    },
    {
      "cell_type": "code",
      "source": [],
      "metadata": {
        "id": "UXThMEkQSoyu"
      },
      "execution_count": null,
      "outputs": []
    },
    {
      "cell_type": "markdown",
      "source": [
        "**Una vez creada la nueva columna, elimina la columna ```puntuacion_examen```, y despliega el DataFrame**"
      ],
      "metadata": {
        "id": "Gk_IhSPVSpSZ"
      }
    }
  ]
}